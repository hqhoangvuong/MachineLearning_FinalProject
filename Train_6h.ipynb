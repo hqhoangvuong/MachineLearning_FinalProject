{
 "cells": [
  {
   "cell_type": "code",
   "execution_count": null,
   "metadata": {},
   "outputs": [],
   "source": [
    "import pandas as pd\n",
    "import numpy as np\n",
    "import matplotlib.pyplot as plt\n",
    "import pickle"
   ]
  },
  {
   "cell_type": "code",
   "execution_count": 40,
   "metadata": {},
   "outputs": [
    {
     "data": {
      "text/html": [
       "<div>\n",
       "<style scoped>\n",
       "    .dataframe tbody tr th:only-of-type {\n",
       "        vertical-align: middle;\n",
       "    }\n",
       "\n",
       "    .dataframe tbody tr th {\n",
       "        vertical-align: top;\n",
       "    }\n",
       "\n",
       "    .dataframe thead th {\n",
       "        text-align: right;\n",
       "    }\n",
       "</style>\n",
       "<table border=\"1\" class=\"dataframe\">\n",
       "  <thead>\n",
       "    <tr style=\"text-align: right;\">\n",
       "      <th></th>\n",
       "      <th>Humidity</th>\n",
       "      <th>Temperature</th>\n",
       "      <th>Hour</th>\n",
       "      <th>Minute</th>\n",
       "      <th>Temperature_Future</th>\n",
       "    </tr>\n",
       "  </thead>\n",
       "  <tbody>\n",
       "    <tr>\n",
       "      <th>0</th>\n",
       "      <td>72.0</td>\n",
       "      <td>34.6</td>\n",
       "      <td>15.0</td>\n",
       "      <td>42.0</td>\n",
       "      <td>30.3</td>\n",
       "    </tr>\n",
       "    <tr>\n",
       "      <th>1</th>\n",
       "      <td>66.0</td>\n",
       "      <td>34.6</td>\n",
       "      <td>15.0</td>\n",
       "      <td>42.0</td>\n",
       "      <td>29.9</td>\n",
       "    </tr>\n",
       "    <tr>\n",
       "      <th>2</th>\n",
       "      <td>66.0</td>\n",
       "      <td>34.6</td>\n",
       "      <td>15.0</td>\n",
       "      <td>42.0</td>\n",
       "      <td>29.9</td>\n",
       "    </tr>\n",
       "    <tr>\n",
       "      <th>3</th>\n",
       "      <td>66.0</td>\n",
       "      <td>34.6</td>\n",
       "      <td>15.0</td>\n",
       "      <td>43.0</td>\n",
       "      <td>29.9</td>\n",
       "    </tr>\n",
       "    <tr>\n",
       "      <th>4</th>\n",
       "      <td>66.0</td>\n",
       "      <td>34.6</td>\n",
       "      <td>15.0</td>\n",
       "      <td>43.0</td>\n",
       "      <td>29.9</td>\n",
       "    </tr>\n",
       "    <tr>\n",
       "      <th>...</th>\n",
       "      <td>...</td>\n",
       "      <td>...</td>\n",
       "      <td>...</td>\n",
       "      <td>...</td>\n",
       "      <td>...</td>\n",
       "    </tr>\n",
       "    <tr>\n",
       "      <th>11401</th>\n",
       "      <td>71.0</td>\n",
       "      <td>33.9</td>\n",
       "      <td>6.0</td>\n",
       "      <td>40.0</td>\n",
       "      <td>34.6</td>\n",
       "    </tr>\n",
       "    <tr>\n",
       "      <th>11402</th>\n",
       "      <td>72.0</td>\n",
       "      <td>34.2</td>\n",
       "      <td>6.0</td>\n",
       "      <td>41.0</td>\n",
       "      <td>34.6</td>\n",
       "    </tr>\n",
       "    <tr>\n",
       "      <th>11403</th>\n",
       "      <td>70.0</td>\n",
       "      <td>34.3</td>\n",
       "      <td>6.0</td>\n",
       "      <td>41.0</td>\n",
       "      <td>34.6</td>\n",
       "    </tr>\n",
       "    <tr>\n",
       "      <th>11404</th>\n",
       "      <td>69.0</td>\n",
       "      <td>34.8</td>\n",
       "      <td>6.0</td>\n",
       "      <td>41.0</td>\n",
       "      <td>34.6</td>\n",
       "    </tr>\n",
       "    <tr>\n",
       "      <th>11405</th>\n",
       "      <td>69.0</td>\n",
       "      <td>34.9</td>\n",
       "      <td>6.0</td>\n",
       "      <td>41.0</td>\n",
       "      <td>34.6</td>\n",
       "    </tr>\n",
       "  </tbody>\n",
       "</table>\n",
       "<p>11406 rows × 5 columns</p>\n",
       "</div>"
      ],
      "text/plain": [
       "       Humidity  Temperature  Hour  Minute  Temperature_Future\n",
       "0          72.0         34.6  15.0    42.0                30.3\n",
       "1          66.0         34.6  15.0    42.0                29.9\n",
       "2          66.0         34.6  15.0    42.0                29.9\n",
       "3          66.0         34.6  15.0    43.0                29.9\n",
       "4          66.0         34.6  15.0    43.0                29.9\n",
       "...         ...          ...   ...     ...                 ...\n",
       "11401      71.0         33.9   6.0    40.0                34.6\n",
       "11402      72.0         34.2   6.0    41.0                34.6\n",
       "11403      70.0         34.3   6.0    41.0                34.6\n",
       "11404      69.0         34.8   6.0    41.0                34.6\n",
       "11405      69.0         34.9   6.0    41.0                34.6\n",
       "\n",
       "[11406 rows x 5 columns]"
      ]
     },
     "execution_count": 40,
     "metadata": {},
     "output_type": "execute_result"
    }
   ],
   "source": [
    "df = pd.read_csv('saved_dataframe/df_with_6h_future_ready_to_train_23_12_20.csv')\n",
    "df.drop(['Humidity_Future', 'Minute_Future', 'Hour_Future'], axis=1, inplace = True)\n",
    "df"
   ]
  },
  {
   "cell_type": "code",
   "execution_count": null,
   "metadata": {},
   "outputs": [],
   "source": [
    "from sklearn.preprocessing import StandardScaler\n",
    "scaler = StandardScaler()"
   ]
  },
  {
   "cell_type": "code",
   "execution_count": null,
   "metadata": {},
   "outputs": [],
   "source": [
    "X = df[['Humidity', 'Temperature', 'Hour', 'Minute']]\n",
    "    y = df['Temperature_Future']"
   ]
  },
  {
   "cell_type": "code",
   "execution_count": null,
   "metadata": {},
   "outputs": [],
   "source": [
    "from sklearn.model_selection import train_test_split\n",
    "X_train, X_test, y_train, y_test = train_test_split(X, y, test_size = 0.2)"
   ]
  },
  {
   "cell_type": "code",
   "execution_count": 36,
   "metadata": {},
   "outputs": [
    {
     "data": {
      "text/plain": [
       "1427     28.5\n",
       "1879     28.2\n",
       "4272     34.8\n",
       "7285     27.8\n",
       "6568     28.6\n",
       "         ... \n",
       "867      28.5\n",
       "3598     34.2\n",
       "11022    34.5\n",
       "896      28.5\n",
       "5502     29.6\n",
       "Name: Temperature_Future, Length: 2282, dtype: float64"
      ]
     },
     "execution_count": 36,
     "metadata": {},
     "output_type": "execute_result"
    }
   ],
   "source": [
    "y_test"
   ]
  },
  {
   "cell_type": "code",
   "execution_count": null,
   "metadata": {},
   "outputs": [],
   "source": [
    "X_train_scaled = pd.DataFrame(scaler.fit_transform(X_train[X_train.columns]), columns = X_train.columns)\n",
    "X_test_scaled = pd.DataFrame(scaler.fit_transform(X_test[X_test.columns]), columns = X_test.columns)"
   ]
  },
  {
   "cell_type": "markdown",
   "metadata": {},
   "source": [
    "Support Vector Regression"
   ]
  },
  {
   "cell_type": "code",
   "execution_count": 11,
   "metadata": {},
   "outputs": [],
   "source": [
    "from sklearn import model_selection\n",
    "from sklearn.linear_model import LinearRegression\n",
    "from sklearn.linear_model import Ridge\n",
    "from sklearn.linear_model import Lasso\n",
    "from sklearn.linear_model import ElasticNet\n",
    "from sklearn.svm import SVR\n",
    "from sklearn.metrics import r2_score\n",
    "from sklearn.model_selection import train_test_split\n",
    "from sklearn.metrics import mean_squared_error\n",
    "from math import sqrt"
   ]
  },
  {
   "cell_type": "code",
   "execution_count": null,
   "metadata": {},
   "outputs": [],
   "source": [
    "rr = Ridge(alpha=0.01)\n",
    "rr.fit(X_train_scaled, y_train) \n",
    "pred_train_rr= rr.predict(X_train_scaled)\n",
    "print(mean_squared_error(y_train, pred_train_rr))\n",
    "print(r2_score(y_train, pred_train_rr))\n",
    "\n",
    "pred_test_rr= rr.predict(X_test_scaled)\n",
    "print(mean_squared_error(y_test,pred_test_rr)) \n",
    "print(r2_score(y_test, pred_test_rr))"
   ]
  },
  {
   "cell_type": "code",
   "execution_count": null,
   "metadata": {},
   "outputs": [],
   "source": [
    "model_lasso = Lasso(alpha=0.01)\n",
    "model_lasso.fit(X_train_scaled, y_train) \n",
    "pred_train_lasso= model_lasso.predict(X_train_scaled)\n",
    "print(mean_squared_error(y_train, pred_train_lasso))\n",
    "print(r2_score(y_train, pred_train_lasso))\n",
    "\n",
    "pred_test_lasso= model_lasso.predict(X_test_scaled)\n",
    "print(mean_squared_error(y_test, pred_test_lasso))\n",
    "print(r2_score(y_test, pred_test_lasso))"
   ]
  },
  {
   "cell_type": "code",
   "execution_count": null,
   "metadata": {},
   "outputs": [],
   "source": [
    "model_enet = ElasticNet(alpha = 0.01)\n",
    "model_enet.fit(X_train_scaled, y_train) \n",
    "pred_train_enet= model_enet.predict(X_train_scaled)\n",
    "print(mean_squared_error(y_train, pred_train_enet))\n",
    "print(r2_score(y_train, pred_train_enet))\n",
    "\n",
    "pred_test_enet= model_enet.predict(X_test_scaled)\n",
    "print(mean_squared_error(y_test,pred_test_enet))\n",
    "print(r2_score(y_test, pred_test_enet))"
   ]
  },
  {
   "cell_type": "code",
   "execution_count": 44,
   "metadata": {},
   "outputs": [],
   "source": [
    "max_r2_score = -999999 # best is 1.0\n",
    "max_mse_score = 9999999999 # best is 0.0\n",
    "max_r2_score_train = -999999 # best is 1.0\n",
    "max_mse_score_train = 9999999999 # best is 0.0\n",
    "for i in range(100000):\n",
    "    lr = LinearRegression(n_jobs=-1)\n",
    "    lr.fit(X_train_scaled, y_train)\n",
    "    pred_train_lr = lr.predict(X_train_scaled)\n",
    "    mse_train = mean_squared_error(y_train, pred_train_lr)\n",
    "    r2_train = r2_score(y_train, pred_train_lr)\n",
    "    if r2_train > max_r2_score_train:\n",
    "        max_r2_score_train = r2_train\n",
    "        max_mse_score_train = mse_train\n",
    "        \n",
    "    pred_test_lr = lr.predict(X_test_scaled)\n",
    "    mse = mean_squared_error(y_test, pred_test_lr)\n",
    "    r2 = r2_score(y_test, pred_test_lr)\n",
    "    if r2 > max_r2_score:\n",
    "        max_r2_score = r2\n",
    "        max_mse_score = mse"
   ]
  },
  {
   "cell_type": "code",
   "execution_count": 45,
   "metadata": {},
   "outputs": [
    {
     "name": "stdout",
     "output_type": "stream",
     "text": [
      "0.8197428426737157\n",
      "1.7263904848061695\n",
      "0.7987174636602934\n",
      "1.8730951569590564\n"
     ]
    }
   ],
   "source": [
    "print(max_r2_score_train)\n",
    "print(max_mse_score_train)\n",
    "print(max_r2_score)\n",
    "print(max_mse_score)"
   ]
  },
  {
   "cell_type": "code",
   "execution_count": 49,
   "metadata": {},
   "outputs": [],
   "source": [
    "max_r2_score_ridge = -999999 # best is 1.0\n",
    "max_mse_score_ridge  = 9999999999 # best is 0.0\n",
    "max_r2_score_ridge_train = -999999 # best is 1.0\n",
    "max_mse_score_ridge_train  = 9999999999 # best is 0.0\n",
    "for i in range(100000):\n",
    "    rr = Ridge(alpha=0.01, random_state=123)\n",
    "    rr.fit(X_train_scaled, y_train) \n",
    "    \n",
    "    pred_train_rr = rr.predict(X_train_scaled)\n",
    "    mse_train = mean_squared_error(y_train, pred_train_rr)\n",
    "    r2_train = r2_score(y_train, pred_train_rr)\n",
    "    if r2_train > max_r2_score_ridge_train:\n",
    "        max_r2_score_ridge_train = r2_train\n",
    "        max_mse_score_ridge_train = mse_train\n",
    "    \n",
    "    pred_test_rr = rr.predict(X_test_scaled)\n",
    "    mse = mean_squared_error(y_test, pred_test_rr)\n",
    "    r2 = r2_score(y_test, pred_test_rr)\n",
    "    if r2 > max_r2_score_ridge:\n",
    "        max_r2_score_ridge = r2\n",
    "        max_mse_score_ridge = mse"
   ]
  },
  {
   "cell_type": "code",
   "execution_count": 50,
   "metadata": {},
   "outputs": [
    {
     "name": "stdout",
     "output_type": "stream",
     "text": [
      "0.8197428426718448\n",
      "1.7263904848240874\n",
      "0.7987175219095972\n",
      "1.873094614902647\n"
     ]
    }
   ],
   "source": [
    "print(max_r2_score_ridge_train)\n",
    "print(max_mse_score_ridge_train)\n",
    "print(max_r2_score_ridge) \n",
    "print(max_mse_score_ridge)"
   ]
  },
  {
   "cell_type": "code",
   "execution_count": 51,
   "metadata": {},
   "outputs": [],
   "source": [
    "max_r2_score_lasso = -999999 # best is 1.0\n",
    "max_mse_score_lasso  = 9999999999 # best is 0.0\n",
    "max_r2_score_lasso_train = -999999 # best is 1.0\n",
    "max_mse_score_lasso_train  = 9999999999 # best is 0.0\n",
    "for i in range(100000):\n",
    "    model_lasso = Lasso(alpha=0.01, random_state = 123)\n",
    "    model_lasso.fit(X_train_scaled, y_train) \n",
    "    pred_train_lasso = model_lasso.predict(X_train_scaled)\n",
    "    mse_train = mean_squared_error(y_train, pred_train_lasso)\n",
    "    r2_train = r2_score(y_train, pred_train_lasso)\n",
    "    if r2_train > max_r2_score_lasso_train:\n",
    "        max_r2_score_lasso_train = r2_train\n",
    "        max_mse_score_lasso_train = mse_train\n",
    "    \n",
    "    pred_test_lasso= model_lasso.predict(X_test_scaled)\n",
    "    mse = mean_squared_error(y_test, pred_test_lasso)\n",
    "    r2 = r2_score(y_test, pred_test_lasso)\n",
    "    if r2 > max_r2_score_lasso:\n",
    "        max_r2_score_lasso = r2\n",
    "        max_mse_score_lasso = mse"
   ]
  },
  {
   "cell_type": "code",
   "execution_count": 52,
   "metadata": {},
   "outputs": [
    {
     "name": "stdout",
     "output_type": "stream",
     "text": [
      "0.819525496589748\n",
      "1.728472089868832\n",
      "0.7988982724065437\n",
      "1.8714125868111644\n"
     ]
    }
   ],
   "source": [
    "print(max_r2_score_lasso_train) \n",
    "print(max_mse_score_lasso_train)\n",
    "print(max_r2_score_lasso) \n",
    "print(max_mse_score_lasso)"
   ]
  },
  {
   "cell_type": "code",
   "execution_count": 54,
   "metadata": {},
   "outputs": [],
   "source": [
    "max_r2_score_enet = -999999 # best is 1.0\n",
    "max_mse_score_enet  = 9999999999 # best is 0.0\n",
    "max_r2_score_enet_train = -999999 # best is 1.0\n",
    "max_mse_score_enet_train  = 9999999999 # best is 0.0\n",
    "for i in range(100000):\n",
    "    model_enet = ElasticNet(alpha = 0.01, random_state=123)\n",
    "    model_enet.fit(X_train_scaled, y_train) \n",
    "    \n",
    "    pred_train_enet= model_enet.predict(X_train_scaled)\n",
    "    mse_train = mean_squared_error(y_train, pred_train_enet)\n",
    "    r2_train = r2_score(y_train, pred_train_enet)\n",
    "    if r2_train > max_r2_score_enet_train:\n",
    "        max_r2_score_enet_train = r2_train\n",
    "        max_mse_score_enet_train = mse_train\n",
    "\n",
    "    pred_test_enet= model_enet.predict(X_test_scaled)\n",
    "    mse = mean_squared_error(y_test,pred_test_enet)\n",
    "    r2 = r2_score(y_test, pred_test_enet)\n",
    "    if r2 > max_r2_score_enet:\n",
    "        max_r2_score_enet = r2\n",
    "        max_mse_score_enet = mse"
   ]
  },
  {
   "cell_type": "code",
   "execution_count": null,
   "metadata": {},
   "outputs": [],
   "source": []
  },
  {
   "cell_type": "code",
   "execution_count": 56,
   "metadata": {},
   "outputs": [
    {
     "name": "stdout",
     "output_type": "stream",
     "text": [
      "0.8195821561691509\n",
      "1.727929439800424\n",
      "0.7990058653611329\n",
      "1.8704113482247038\n"
     ]
    }
   ],
   "source": [
    "print(max_r2_score_enet_train) \n",
    "print(max_mse_score_enet_train)\n",
    "print(max_r2_score_enet) \n",
    "print(max_mse_score_enet)"
   ]
  },
  {
   "cell_type": "code",
   "execution_count": null,
   "metadata": {},
   "outputs": [],
   "source": []
  }
 ],
 "metadata": {
  "kernelspec": {
   "display_name": "Python 3",
   "language": "python",
   "name": "python3"
  },
  "language_info": {
   "codemirror_mode": {
    "name": "ipython",
    "version": 3
   },
   "file_extension": ".py",
   "mimetype": "text/x-python",
   "name": "python",
   "nbconvert_exporter": "python",
   "pygments_lexer": "ipython3",
   "version": "3.6.9"
  }
 },
 "nbformat": 4,
 "nbformat_minor": 4
}
