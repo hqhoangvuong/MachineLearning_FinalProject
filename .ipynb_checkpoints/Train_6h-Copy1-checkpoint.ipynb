{
 "cells": [
  {
   "cell_type": "code",
   "execution_count": 1,
   "metadata": {},
   "outputs": [],
   "source": [
    "import pandas as pd\n",
    "import numpy as np\n",
    "import matplotlib.pyplot as plt"
   ]
  },
  {
   "cell_type": "code",
   "execution_count": 9,
   "metadata": {},
   "outputs": [
    {
     "name": "stdout",
     "output_type": "stream",
     "text": [
      "       Humidity  Temperature  Hour  Minute  Humidity_Future  \\\n",
      "0          72.0         34.6  15.0    42.0             80.0   \n",
      "1          66.0         34.6  15.0    42.0             80.0   \n",
      "2          66.0         34.6  15.0    42.0             81.0   \n",
      "3          66.0         34.6  15.0    43.0             81.0   \n",
      "4          66.0         34.6  15.0    43.0             81.0   \n",
      "...         ...          ...   ...     ...              ...   \n",
      "11401      71.0         33.9   6.0    40.0             62.0   \n",
      "11402      72.0         34.2   6.0    41.0             62.0   \n",
      "11403      70.0         34.3   6.0    41.0             62.0   \n",
      "11404      69.0         34.8   6.0    41.0             62.0   \n",
      "11405      69.0         34.9   6.0    41.0             63.0   \n",
      "\n",
      "       Temperature_Future  Hour_Future  Minute_Future  \n",
      "0                    30.3         21.0           42.0  \n",
      "1                    29.9         21.0           42.0  \n",
      "2                    29.9         21.0           42.0  \n",
      "3                    29.9         21.0           43.0  \n",
      "4                    29.9         21.0           43.0  \n",
      "...                   ...          ...            ...  \n",
      "11401                34.6         12.0           40.0  \n",
      "11402                34.6         12.0           41.0  \n",
      "11403                34.6         12.0           41.0  \n",
      "11404                34.6         12.0           41.0  \n",
      "11405                34.6         12.0           41.0  \n",
      "\n",
      "[11406 rows x 8 columns]\n"
     ]
    }
   ],
   "source": [
    "df = pd.read_csv('saved_dataframe/df_with_6h_future_ready_to_train_23_12_20.csv')\n",
    "print(df)"
   ]
  },
  {
   "cell_type": "code",
   "execution_count": 10,
   "metadata": {},
   "outputs": [],
   "source": [
    "from sklearn.preprocessing import StandardScaler\n",
    "scaler = StandardScaler()\n",
    "df_scaler = scaler.fit_transform(df[df.columns])"
   ]
  },
  {
   "cell_type": "code",
   "execution_count": 11,
   "metadata": {},
   "outputs": [],
   "source": [
    "df_scaler = pd.DataFrame(df_scaler, columns = df.columns)"
   ]
  },
  {
   "cell_type": "code",
   "execution_count": 12,
   "metadata": {},
   "outputs": [],
   "source": [
    "X = df_scaler[['Humidity', 'Temperature', 'Hour', 'Minute']]\n",
    "y = df_scaler['Temperature_Future']"
   ]
  },
  {
   "cell_type": "code",
   "execution_count": 13,
   "metadata": {},
   "outputs": [],
   "source": [
    "from sklearn.model_selection import train_test_split\n",
    "X_train, X_test, y_train, y_test = train_test_split(X, y, test_size = 0.2)"
   ]
  },
  {
   "cell_type": "code",
   "execution_count": 14,
   "metadata": {},
   "outputs": [],
   "source": [
    "from sklearn.linear_model import LinearRegression"
   ]
  },
  {
   "cell_type": "code",
   "execution_count": 15,
   "metadata": {},
   "outputs": [
    {
     "data": {
      "text/plain": [
       "LinearRegression()"
      ]
     },
     "execution_count": 15,
     "metadata": {},
     "output_type": "execute_result"
    }
   ],
   "source": [
    "model = LinearRegression()\n",
    "model.fit(X_train, y_train)"
   ]
  },
  {
   "cell_type": "code",
   "execution_count": 16,
   "metadata": {},
   "outputs": [
    {
     "data": {
      "text/plain": [
       "0.8006290414721563"
      ]
     },
     "execution_count": 16,
     "metadata": {},
     "output_type": "execute_result"
    }
   ],
   "source": [
    "model.score(X_test, y_test)"
   ]
  },
  {
   "cell_type": "markdown",
   "metadata": {},
   "source": [
    "Support Vector Regression"
   ]
  },
  {
   "cell_type": "code",
   "execution_count": 17,
   "metadata": {},
   "outputs": [],
   "source": [
    "from sklearn.svm import SVR\n",
    "svr_lin = SVR(kernel='linear', C=1e4)"
   ]
  },
  {
   "cell_type": "code",
   "execution_count": null,
   "metadata": {},
   "outputs": [],
   "source": [
    "svr_model = svr_lin.fit(X_train, y_train)"
   ]
  },
  {
   "cell_type": "code",
   "execution_count": 11,
   "metadata": {},
   "outputs": [],
   "source": [
    "svr_pred = y_lin.predict(X_test)"
   ]
  },
  {
   "cell_type": "code",
   "execution_count": null,
   "metadata": {},
   "outputs": [],
   "source": [
    "svr_pred"
   ]
  },
  {
   "cell_type": "code",
   "execution_count": 16,
   "metadata": {},
   "outputs": [
    {
     "data": {
      "text/plain": [
       "6440     29.9\n",
       "2678     27.8\n",
       "1371     29.6\n",
       "10655    26.8\n",
       "11738    34.8\n",
       "         ... \n",
       "9805     26.5\n",
       "9285     27.1\n",
       "2928     28.2\n",
       "510      32.4\n",
       "9490     26.5\n",
       "Name: Temperature_Future, Length: 2385, dtype: float64"
      ]
     },
     "execution_count": 16,
     "metadata": {},
     "output_type": "execute_result"
    }
   ],
   "source": [
    "y_test"
   ]
  },
  {
   "cell_type": "code",
   "execution_count": null,
   "metadata": {},
   "outputs": [],
   "source": []
  }
 ],
 "metadata": {
  "kernelspec": {
   "display_name": "Python 3",
   "language": "python",
   "name": "python3"
  },
  "language_info": {
   "codemirror_mode": {
    "name": "ipython",
    "version": 3
   },
   "file_extension": ".py",
   "mimetype": "text/x-python",
   "name": "python",
   "nbconvert_exporter": "python",
   "pygments_lexer": "ipython3",
   "version": "3.6.9"
  }
 },
 "nbformat": 4,
 "nbformat_minor": 4
}
