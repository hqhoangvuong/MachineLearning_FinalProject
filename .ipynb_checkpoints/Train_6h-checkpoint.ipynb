{
 "cells": [
  {
   "cell_type": "code",
   "execution_count": null,
   "metadata": {},
   "outputs": [],
   "source": [
    "import pandas as pd\n",
    "import numpy as np\n",
    "import matplotlib.pyplot as plt\n",
    "import pickle"
   ]
  },
  {
   "cell_type": "code",
   "execution_count": null,
   "metadata": {},
   "outputs": [],
   "source": [
    "df = pd.read_csv('saved_dataframe/df_with_6h_future_ready_to_train_23_12_20.csv')\n",
    "print(df)"
   ]
  },
  {
   "cell_type": "code",
   "execution_count": null,
   "metadata": {},
   "outputs": [],
   "source": [
    "from sklearn.preprocessing import StandardScaler\n",
    "scaler = StandardScaler()"
   ]
  },
  {
   "cell_type": "code",
   "execution_count": null,
   "metadata": {},
   "outputs": [],
   "source": [
    "X = df[['Humidity', 'Temperature', 'Hour', 'Minute']]\n",
    "y = df['Temperature_Future']"
   ]
  },
  {
   "cell_type": "code",
   "execution_count": null,
   "metadata": {},
   "outputs": [],
   "source": [
    "from sklearn.model_selection import train_test_split\n",
    "X_train, X_test, y_train, y_test = train_test_split(X, y, test_size = 0.2)"
   ]
  },
  {
   "cell_type": "code",
   "execution_count": null,
   "metadata": {},
   "outputs": [],
   "source": [
    "X_train_scaled = pd.DataFrame(scaler.fit_transform(X_train[X_train.columns]), columns = X_train.columns)\n",
    "X_test_scaled = pd.DataFrame(scaler.fit_transform(X_test[X_test.columns]), columns = X_test.columns)"
   ]
  },
  {
   "cell_type": "markdown",
   "metadata": {},
   "source": [
    "Support Vector Regression"
   ]
  },
  {
   "cell_type": "code",
   "execution_count": 11,
   "metadata": {},
   "outputs": [],
   "source": [
    "from sklearn import model_selection\n",
    "from sklearn.linear_model import LinearRegression\n",
    "from sklearn.linear_model import Ridge\n",
    "from sklearn.linear_model import Lasso\n",
    "from sklearn.linear_model import ElasticNet\n",
    "from sklearn.svm import SVR\n",
    "from sklearn.metrics import r2_score\n",
    "from sklearn.model_selection import train_test_split\n",
    "from sklearn.metrics import mean_squared_error\n",
    "from math import sqrt"
   ]
  },
  {
   "cell_type": "code",
   "execution_count": null,
   "metadata": {},
   "outputs": [],
   "source": [
    "rr = Ridge(alpha=0.01)\n",
    "rr.fit(X_train_scaled, y_train) \n",
    "pred_train_rr= rr.predict(X_train_scaled)\n",
    "print(mean_squared_error(y_train, pred_train_rr))\n",
    "print(r2_score(y_train, pred_train_rr))\n",
    "\n",
    "pred_test_rr= rr.predict(X_test_scaled)\n",
    "print(mean_squared_error(y_test,pred_test_rr)) \n",
    "print(r2_score(y_test, pred_test_rr))"
   ]
  },
  {
   "cell_type": "code",
   "execution_count": null,
   "metadata": {},
   "outputs": [],
   "source": [
    "model_lasso = Lasso(alpha=0.01)\n",
    "model_lasso.fit(X_train_scaled, y_train) \n",
    "pred_train_lasso= model_lasso.predict(X_train_scaled)\n",
    "print(mean_squared_error(y_train, pred_train_lasso))\n",
    "print(r2_score(y_train, pred_train_lasso))\n",
    "\n",
    "pred_test_lasso= model_lasso.predict(X_test_scaled)\n",
    "print(mean_squared_error(y_test, pred_test_lasso))\n",
    "print(r2_score(y_test, pred_test_lasso))"
   ]
  },
  {
   "cell_type": "code",
   "execution_count": null,
   "metadata": {},
   "outputs": [],
   "source": [
    "model_enet = ElasticNet(alpha = 0.01)\n",
    "model_enet.fit(X_train_scaled, y_train) \n",
    "pred_train_enet= model_enet.predict(X_train_scaled)\n",
    "print(mean_squared_error(y_train, pred_train_enet))\n",
    "print(r2_score(y_train, pred_train_enet))\n",
    "\n",
    "pred_test_enet= model_enet.predict(X_test_scaled)\n",
    "print(mean_squared_error(y_test,pred_test_enet))\n",
    "print(r2_score(y_test, pred_test_enet))"
   ]
  },
  {
   "cell_type": "code",
   "execution_count": null,
   "metadata": {},
   "outputs": [],
   "source": [
    "max_r2_score = -999999 # best is 1.0\n",
    "c = 9999999999 # best is 0.0\n",
    "for i in range(100000):\n",
    "    lr = LinearRegression(n_jobs=-1)\n",
    "    lr.fit(X_train_scaled, y_train)\n",
    "    pred_test_lr= lr.predict(X_test_scaled)\n",
    "    mse = np.sqrt(mean_squared_error(y_test, pred_test_lr))\n",
    "    r2 = r2_score(y_test, pred_test_lr)\n",
    "    if r2 > max_r2_score:\n",
    "        max_r2_score = r2\n",
    "        max_mse_score = mse"
   ]
  },
  {
   "cell_type": "code",
   "execution_count": 27,
   "metadata": {},
   "outputs": [
    {
     "name": "stdout",
     "output_type": "stream",
     "text": [
      "0.7987174636602934\n",
      "1.3686106666832085\n"
     ]
    }
   ],
   "source": [
    "print(max_r2_score)\n",
    "print(max_mse_score)"
   ]
  },
  {
   "cell_type": "code",
   "execution_count": 24,
   "metadata": {},
   "outputs": [],
   "source": [
    "max_r2_score_ridge = -999999 # best is 1.0\n",
    "max_mse_score_ridge  = 9999999999 # best is 0.0\n",
    "for i in range(100000):\n",
    "    rr = Ridge(alpha=0.01, random_state=123)\n",
    "    rr.fit(X_train_scaled, y_train) \n",
    "    pred_test_rr= rr.predict(X_test_scaled)\n",
    "    mse = mean_squared_error(y_test, pred_test_rr)\n",
    "    r2 = r2_score(y_test, pred_test_rr)\n",
    "    if r2 > max_r2_score_ridge:\n",
    "        max_r2_score_ridge = r2\n",
    "        max_mse_score_ridge = mse"
   ]
  },
  {
   "cell_type": "code",
   "execution_count": 25,
   "metadata": {},
   "outputs": [
    {
     "name": "stdout",
     "output_type": "stream",
     "text": [
      "0.7987175219095972\n",
      "1.873094614902647\n"
     ]
    }
   ],
   "source": [
    "print(max_r2_score_ridge) \n",
    "print(max_mse_score_ridge)"
   ]
  },
  {
   "cell_type": "code",
   "execution_count": 28,
   "metadata": {},
   "outputs": [],
   "source": [
    "max_r2_score_lasso = -999999 # best is 1.0\n",
    "max_mse_score_lasso  = 9999999999 # best is 0.0\n",
    "for i in range(100000):\n",
    "    model_lasso = Lasso(alpha=0.01, random_state = 123)\n",
    "    model_lasso.fit(X_train_scaled, y_train) \n",
    "    pred_test_lasso= model_lasso.predict(X_test_scaled)\n",
    "    mse = mean_squared_error(y_test, pred_test_lasso)\n",
    "    r2 = r2_score(y_test, pred_test_lasso)\n",
    "    if r2 > max_r2_score_lasso:\n",
    "        max_r2_score_lasso = r2\n",
    "        max_mse_score_lasso = mse"
   ]
  },
  {
   "cell_type": "code",
   "execution_count": 29,
   "metadata": {},
   "outputs": [
    {
     "name": "stdout",
     "output_type": "stream",
     "text": [
      "0.7988982724065437\n",
      "1.8714125868111644\n"
     ]
    }
   ],
   "source": [
    "print(max_r2_score_lasso) \n",
    "print(max_mse_score_lasso)"
   ]
  },
  {
   "cell_type": "code",
   "execution_count": null,
   "metadata": {},
   "outputs": [],
   "source": [
    "max_r2_score_enet = -999999 # best is 1.0\n",
    "max_mse_score_enet  = 9999999999 # best is 0.0\n",
    "for i in range(100000):\n",
    "    model_enet = ElasticNet(alpha = 0.01)\n",
    "    model_enet.fit(X_train_scaled, y_train) \n",
    "\n",
    "    pred_test_enet= model_enet.predict(X_test_scaled)\n",
    "    mse = mean_squared_error(y_test,pred_test_enet)\n",
    "    r2 = r2_score(y_test, pred_test_enet)\n",
    "    if r2 > max_r2_score_lasso:\n",
    "        max_r2_score_enet = r2\n",
    "        max_mse_score_enet = mse"
   ]
  }
 ],
 "metadata": {
  "kernelspec": {
   "display_name": "Python 3",
   "language": "python",
   "name": "python3"
  },
  "language_info": {
   "codemirror_mode": {
    "name": "ipython",
    "version": 3
   },
   "file_extension": ".py",
   "mimetype": "text/x-python",
   "name": "python",
   "nbconvert_exporter": "python",
   "pygments_lexer": "ipython3",
   "version": "3.6.9"
  }
 },
 "nbformat": 4,
 "nbformat_minor": 4
}
