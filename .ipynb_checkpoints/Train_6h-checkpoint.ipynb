{
 "cells": [
  {
   "cell_type": "code",
   "execution_count": 1,
   "metadata": {},
   "outputs": [],
   "source": [
    "import pandas as pd\n",
    "import numpy as np\n",
    "import matplotlib.pyplot as plt\n",
    "import pickle"
   ]
  },
  {
   "cell_type": "code",
   "execution_count": 2,
   "metadata": {},
   "outputs": [
    {
     "name": "stdout",
     "output_type": "stream",
     "text": [
      "       Humidity  Temperature  Hour  Minute  Humidity_Future  \\\n",
      "0          72.0         34.6  15.0    42.0             80.0   \n",
      "1          66.0         34.6  15.0    42.0             80.0   \n",
      "2          66.0         34.6  15.0    42.0             81.0   \n",
      "3          66.0         34.6  15.0    43.0             81.0   \n",
      "4          66.0         34.6  15.0    43.0             81.0   \n",
      "...         ...          ...   ...     ...              ...   \n",
      "11401      71.0         33.9   6.0    40.0             62.0   \n",
      "11402      72.0         34.2   6.0    41.0             62.0   \n",
      "11403      70.0         34.3   6.0    41.0             62.0   \n",
      "11404      69.0         34.8   6.0    41.0             62.0   \n",
      "11405      69.0         34.9   6.0    41.0             63.0   \n",
      "\n",
      "       Temperature_Future  Hour_Future  Minute_Future  \n",
      "0                    30.3         21.0           42.0  \n",
      "1                    29.9         21.0           42.0  \n",
      "2                    29.9         21.0           42.0  \n",
      "3                    29.9         21.0           43.0  \n",
      "4                    29.9         21.0           43.0  \n",
      "...                   ...          ...            ...  \n",
      "11401                34.6         12.0           40.0  \n",
      "11402                34.6         12.0           41.0  \n",
      "11403                34.6         12.0           41.0  \n",
      "11404                34.6         12.0           41.0  \n",
      "11405                34.6         12.0           41.0  \n",
      "\n",
      "[11406 rows x 8 columns]\n"
     ]
    }
   ],
   "source": [
    "df = pd.read_csv('saved_dataframe/df_with_6h_future_ready_to_train_23_12_20.csv')\n",
    "print(df)"
   ]
  },
  {
   "cell_type": "code",
   "execution_count": 3,
   "metadata": {},
   "outputs": [],
   "source": [
    "from sklearn.preprocessing import StandardScaler\n",
    "scaler = StandardScaler()\n"
   ]
  },
  {
   "cell_type": "code",
   "execution_count": 4,
   "metadata": {},
   "outputs": [],
   "source": [
    "X = df[['Humidity', 'Temperature', 'Hour', 'Minute']]\n",
    "y = df['Temperature_Future']"
   ]
  },
  {
   "cell_type": "code",
   "execution_count": 6,
   "metadata": {},
   "outputs": [],
   "source": [
    "from sklearn.model_selection import train_test_split\n",
    "X_train, X_test, y_train, y_test = train_test_split(X, y, test_size = 0.2)"
   ]
  },
  {
   "cell_type": "code",
   "execution_count": 7,
   "metadata": {},
   "outputs": [],
   "source": [
    "X_train_scaled = pd.DataFrame(scaler.fit_transform(X_train[X_train.columns]), columns = X_train.columns)\n",
    "X_test_scaled = pd.DataFrame(scaler.fit_transform(X_test[X_test.columns]), columns = X_test.columns)"
   ]
  },
  {
   "cell_type": "code",
   "execution_count": 9,
   "metadata": {},
   "outputs": [
    {
     "data": {
      "text/html": [
       "<div>\n",
       "<style scoped>\n",
       "    .dataframe tbody tr th:only-of-type {\n",
       "        vertical-align: middle;\n",
       "    }\n",
       "\n",
       "    .dataframe tbody tr th {\n",
       "        vertical-align: top;\n",
       "    }\n",
       "\n",
       "    .dataframe thead th {\n",
       "        text-align: right;\n",
       "    }\n",
       "</style>\n",
       "<table border=\"1\" class=\"dataframe\">\n",
       "  <thead>\n",
       "    <tr style=\"text-align: right;\">\n",
       "      <th></th>\n",
       "      <th>Humidity</th>\n",
       "      <th>Temperature</th>\n",
       "      <th>Hour</th>\n",
       "      <th>Minute</th>\n",
       "    </tr>\n",
       "  </thead>\n",
       "  <tbody>\n",
       "    <tr>\n",
       "      <th>0</th>\n",
       "      <td>-1.762215</td>\n",
       "      <td>2.255557</td>\n",
       "      <td>0.457021</td>\n",
       "      <td>-0.538982</td>\n",
       "    </tr>\n",
       "    <tr>\n",
       "      <th>1</th>\n",
       "      <td>-0.617189</td>\n",
       "      <td>0.333499</td>\n",
       "      <td>0.198729</td>\n",
       "      <td>0.972413</td>\n",
       "    </tr>\n",
       "    <tr>\n",
       "      <th>2</th>\n",
       "      <td>-1.876717</td>\n",
       "      <td>2.344955</td>\n",
       "      <td>0.327875</td>\n",
       "      <td>1.611849</td>\n",
       "    </tr>\n",
       "    <tr>\n",
       "      <th>3</th>\n",
       "      <td>0.527836</td>\n",
       "      <td>-0.471084</td>\n",
       "      <td>-0.963583</td>\n",
       "      <td>-1.469071</td>\n",
       "    </tr>\n",
       "    <tr>\n",
       "      <th>4</th>\n",
       "      <td>-0.846194</td>\n",
       "      <td>0.601693</td>\n",
       "      <td>0.198729</td>\n",
       "      <td>-1.352810</td>\n",
       "    </tr>\n",
       "    <tr>\n",
       "      <th>...</th>\n",
       "      <td>...</td>\n",
       "      <td>...</td>\n",
       "      <td>...</td>\n",
       "      <td>...</td>\n",
       "    </tr>\n",
       "    <tr>\n",
       "      <th>9119</th>\n",
       "      <td>0.985846</td>\n",
       "      <td>-0.739278</td>\n",
       "      <td>1.231896</td>\n",
       "      <td>-1.004027</td>\n",
       "    </tr>\n",
       "    <tr>\n",
       "      <th>9120</th>\n",
       "      <td>-0.273682</td>\n",
       "      <td>-0.471084</td>\n",
       "      <td>1.231896</td>\n",
       "      <td>-0.364590</td>\n",
       "    </tr>\n",
       "    <tr>\n",
       "      <th>9121</th>\n",
       "      <td>-0.502687</td>\n",
       "      <td>-0.158191</td>\n",
       "      <td>1.102750</td>\n",
       "      <td>-1.585332</td>\n",
       "    </tr>\n",
       "    <tr>\n",
       "      <th>9122</th>\n",
       "      <td>-1.189702</td>\n",
       "      <td>1.316877</td>\n",
       "      <td>0.715312</td>\n",
       "      <td>-0.538982</td>\n",
       "    </tr>\n",
       "    <tr>\n",
       "      <th>9123</th>\n",
       "      <td>-1.762215</td>\n",
       "      <td>2.076761</td>\n",
       "      <td>0.457021</td>\n",
       "      <td>-1.004027</td>\n",
       "    </tr>\n",
       "  </tbody>\n",
       "</table>\n",
       "<p>9124 rows × 4 columns</p>\n",
       "</div>"
      ],
      "text/plain": [
       "      Humidity  Temperature      Hour    Minute\n",
       "0    -1.762215     2.255557  0.457021 -0.538982\n",
       "1    -0.617189     0.333499  0.198729  0.972413\n",
       "2    -1.876717     2.344955  0.327875  1.611849\n",
       "3     0.527836    -0.471084 -0.963583 -1.469071\n",
       "4    -0.846194     0.601693  0.198729 -1.352810\n",
       "...        ...          ...       ...       ...\n",
       "9119  0.985846    -0.739278  1.231896 -1.004027\n",
       "9120 -0.273682    -0.471084  1.231896 -0.364590\n",
       "9121 -0.502687    -0.158191  1.102750 -1.585332\n",
       "9122 -1.189702     1.316877  0.715312 -0.538982\n",
       "9123 -1.762215     2.076761  0.457021 -1.004027\n",
       "\n",
       "[9124 rows x 4 columns]"
      ]
     },
     "execution_count": 9,
     "metadata": {},
     "output_type": "execute_result"
    }
   ],
   "source": [
    "X_train_scaled"
   ]
  },
  {
   "cell_type": "code",
   "execution_count": 2,
   "metadata": {},
   "outputs": [],
   "source": [
    "from sklearn.linear_model import LinearRegression"
   ]
  },
  {
   "cell_type": "code",
   "execution_count": 30,
   "metadata": {},
   "outputs": [
    {
     "data": {
      "text/plain": [
       "LinearRegression(copy_X=True, fit_intercept=True, n_jobs=None, normalize=False)"
      ]
     },
     "execution_count": 30,
     "metadata": {},
     "output_type": "execute_result"
    }
   ],
   "source": [
    "model = LinearRegression()\n",
    "model.fit(X_train, y_train)"
   ]
  },
  {
   "cell_type": "code",
   "execution_count": 31,
   "metadata": {},
   "outputs": [
    {
     "data": {
      "text/plain": [
       "0.7215171814975577"
      ]
     },
     "execution_count": 31,
     "metadata": {},
     "output_type": "execute_result"
    }
   ],
   "source": [
    "model.score(X_test, y_test)"
   ]
  },
  {
   "cell_type": "markdown",
   "metadata": {},
   "source": [
    "Support Vector Regression"
   ]
  },
  {
   "cell_type": "code",
   "execution_count": 9,
   "metadata": {},
   "outputs": [],
   "source": [
    "from sklearn.svm import SVR\n",
    "svr_lin = SVR(kernel='linear', C=1e4)"
   ]
  },
  {
   "cell_type": "code",
   "execution_count": null,
   "metadata": {},
   "outputs": [],
   "source": [
    "svr_model = svr_lin.fit(X_train, y_train)"
   ]
  },
  {
   "cell_type": "code",
   "execution_count": 11,
   "metadata": {},
   "outputs": [],
   "source": [
    "svr_pred = y_lin.predict(X_test)"
   ]
  },
  {
   "cell_type": "code",
   "execution_count": 15,
   "metadata": {},
   "outputs": [
    {
     "data": {
      "text/plain": [
       "array([ -284.19910571,  -742.06249163, -1254.99770758, ...,\n",
       "        -796.93400606,   392.58539918,    22.03499511])"
      ]
     },
     "execution_count": 15,
     "metadata": {},
     "output_type": "execute_result"
    }
   ],
   "source": [
    "svr_pred"
   ]
  },
  {
   "cell_type": "code",
   "execution_count": 16,
   "metadata": {},
   "outputs": [
    {
     "data": {
      "text/plain": [
       "6440     29.9\n",
       "2678     27.8\n",
       "1371     29.6\n",
       "10655    26.8\n",
       "11738    34.8\n",
       "         ... \n",
       "9805     26.5\n",
       "9285     27.1\n",
       "2928     28.2\n",
       "510      32.4\n",
       "9490     26.5\n",
       "Name: Temperature_Future, Length: 2385, dtype: float64"
      ]
     },
     "execution_count": 16,
     "metadata": {},
     "output_type": "execute_result"
    }
   ],
   "source": [
    "y_test"
   ]
  },
  {
   "cell_type": "code",
   "execution_count": 15,
   "metadata": {},
   "outputs": [],
   "source": [
    "loaded_model = pickle.load(open('Pickle_RL_Model.pkl', 'rb'))\n"
   ]
  },
  {
   "cell_type": "code",
   "execution_count": 16,
   "metadata": {},
   "outputs": [
    {
     "data": {
      "text/plain": [
       "array([-0.51399159,  0.88714899,  0.46526038, ..., -0.07681337,\n",
       "       -1.45318206,  1.63909216])"
      ]
     },
     "execution_count": 16,
     "metadata": {},
     "output_type": "execute_result"
    }
   ],
   "source": [
    "loaded_model.predict(X_test)"
   ]
  },
  {
   "cell_type": "code",
   "execution_count": 10,
   "metadata": {},
   "outputs": [],
   "source": [
    "from sklearn import model_selection\n",
    "from sklearn.linear_model import LinearRegression\n",
    "from sklearn.linear_model import Ridge\n",
    "from sklearn.linear_model import Lasso\n",
    "from sklearn.linear_model import ElasticNet\n",
    "from sklearn.neighbors import KNeighborsRegressor\n",
    "from sklearn.tree import DecisionTreeRegressor\n",
    "from sklearn.svm import SVR\n",
    "from sklearn.ensemble import RandomForestRegressor\n",
    "from sklearn.metrics import r2_score\n",
    "from sklearn.model_selection import train_test_split\n",
    "from sklearn.metrics import mean_squared_error\n",
    "from math import sqrt"
   ]
  },
  {
   "cell_type": "code",
   "execution_count": 11,
   "metadata": {},
   "outputs": [
    {
     "name": "stdout",
     "output_type": "stream",
     "text": [
      "1.7600309343173677\n",
      "0.816073311272762\n",
      "1.741561747273706\n",
      "0.8134774473019187\n"
     ]
    }
   ],
   "source": [
    "rr = Ridge(alpha=0.01)\n",
    "rr.fit(X_train_scaled, y_train) \n",
    "pred_train_rr= rr.predict(X_train_scaled)\n",
    "print(mean_squared_error(y_train, pred_train_rr))\n",
    "print(r2_score(y_train, pred_train_rr))\n",
    "\n",
    "pred_test_rr= rr.predict(X_test_scaled)\n",
    "print(mean_squared_error(y_test,pred_test_rr)) \n",
    "print(r2_score(y_test, pred_test_rr))"
   ]
  },
  {
   "cell_type": "code",
   "execution_count": 12,
   "metadata": {},
   "outputs": [
    {
     "data": {
      "text/plain": [
       "array([28.21840012, 29.26044574, 28.66259324, ..., 26.67557439,\n",
       "       27.72880929, 28.08380304])"
      ]
     },
     "execution_count": 12,
     "metadata": {},
     "output_type": "execute_result"
    }
   ],
   "source": [
    "pred_train_rr"
   ]
  },
  {
   "cell_type": "code",
   "execution_count": 13,
   "metadata": {},
   "outputs": [
    {
     "data": {
      "text/plain": [
       "213     27.8\n",
       "6430    28.9\n",
       "81      28.5\n",
       "4337    34.2\n",
       "6195    29.2\n",
       "        ... \n",
       "2051    28.7\n",
       "9071    26.0\n",
       "8601    26.5\n",
       "711     27.5\n",
       "163     28.2\n",
       "Name: Temperature_Future, Length: 9124, dtype: float64"
      ]
     },
     "execution_count": 13,
     "metadata": {},
     "output_type": "execute_result"
    }
   ],
   "source": [
    "y_train"
   ]
  },
  {
   "cell_type": "code",
   "execution_count": 14,
   "metadata": {},
   "outputs": [
    {
     "name": "stdout",
     "output_type": "stream",
     "text": [
      "1.762131097101556\n",
      "0.8158538401378221\n",
      "1.7400595507319172\n",
      "0.813638333663868\n"
     ]
    }
   ],
   "source": [
    "model_lasso = Lasso(alpha=0.01)\n",
    "model_lasso.fit(X_train_scaled, y_train) \n",
    "pred_train_lasso= model_lasso.predict(X_train_scaled)\n",
    "print(mean_squared_error(y_train, pred_train_lasso))\n",
    "print(r2_score(y_train, pred_train_lasso))\n",
    "\n",
    "pred_test_lasso= model_lasso.predict(X_test_scaled)\n",
    "print(mean_squared_error(y_test, pred_test_lasso))\n",
    "print(r2_score(y_test, pred_test_lasso))"
   ]
  },
  {
   "cell_type": "code",
   "execution_count": 16,
   "metadata": {},
   "outputs": [
    {
     "name": "stdout",
     "output_type": "stream",
     "text": [
      "1.7615758758703912\n",
      "0.815911861846741\n",
      "1.7396066149217644\n",
      "0.8136868434245182\n"
     ]
    }
   ],
   "source": [
    "model_enet = ElasticNet(alpha = 0.01)\n",
    "model_enet.fit(X_train_scaled, y_train) \n",
    "pred_train_enet= model_enet.predict(X_train_scaled)\n",
    "print(mean_squared_error(y_train, pred_train_enet))\n",
    "print(r2_score(y_train, pred_train_enet))\n",
    "\n",
    "pred_test_enet= model_enet.predict(X_test_scaled)\n",
    "print(mean_squared_error(y_test,pred_test_enet))\n",
    "print(r2_score(y_test, pred_test_enet))"
   ]
  },
  {
   "cell_type": "code",
   "execution_count": null,
   "metadata": {},
   "outputs": [],
   "source": []
  }
 ],
 "metadata": {
  "kernelspec": {
   "display_name": "Python 3",
   "language": "python",
   "name": "python3"
  },
  "language_info": {
   "codemirror_mode": {
    "name": "ipython",
    "version": 3
   },
   "file_extension": ".py",
   "mimetype": "text/x-python",
   "name": "python",
   "nbconvert_exporter": "python",
   "pygments_lexer": "ipython3",
   "version": "3.6.9"
  }
 },
 "nbformat": 4,
 "nbformat_minor": 4
}
