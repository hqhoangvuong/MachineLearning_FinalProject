{
 "cells": [
  {
   "cell_type": "code",
   "execution_count": 2,
   "metadata": {},
   "outputs": [
    {
     "name": "stdout",
     "output_type": "stream",
     "text": [
      "Requirement already satisfied: python-jwt in /usr/local/lib/python3.6/dist-packages (3.3.0)\n",
      "Requirement already satisfied: jwcrypto>=0.8 in /usr/local/lib/python3.6/dist-packages (from python-jwt) (0.8)\n",
      "Requirement already satisfied: cryptography>=2.3 in /usr/local/lib/python3.6/dist-packages (from jwcrypto>=0.8->python-jwt) (3.3.1)\n",
      "Requirement already satisfied: cffi>=1.12 in /usr/local/lib/python3.6/dist-packages (from cryptography>=2.3->jwcrypto>=0.8->python-jwt) (1.14.4)\n",
      "Requirement already satisfied: six>=1.4.1 in /usr/local/lib/python3.6/dist-packages (from cryptography>=2.3->jwcrypto>=0.8->python-jwt) (1.12.0)\n",
      "Requirement already satisfied: pycparser in /usr/local/lib/python3.6/dist-packages (from cffi>=1.12->cryptography>=2.3->jwcrypto>=0.8->python-jwt) (2.20)\n",
      "\u001b[33mWARNING: You are using pip version 19.2.2, however version 20.3.3 is available.\n",
      "You should consider upgrading via the 'pip install --upgrade pip' command.\u001b[0m\n",
      "Requirement already satisfied: gcloud in /usr/local/lib/python3.6/dist-packages (0.18.3)\n",
      "Requirement already satisfied: oauth2client>=2.0.1 in /usr/local/lib/python3.6/dist-packages (from gcloud) (4.1.3)\n",
      "Requirement already satisfied: six in /usr/local/lib/python3.6/dist-packages (from gcloud) (1.12.0)\n",
      "Requirement already satisfied: googleapis-common-protos in /usr/local/lib/python3.6/dist-packages (from gcloud) (1.52.0)\n",
      "Requirement already satisfied: httplib2>=0.9.1 in /usr/local/lib/python3.6/dist-packages (from gcloud) (0.18.1)\n",
      "Requirement already satisfied: protobuf!=3.0.0.b2.post1,>=3.0.0b2 in /usr/local/lib/python3.6/dist-packages (from gcloud) (3.9.1)\n",
      "Requirement already satisfied: rsa>=3.1.4 in /usr/local/lib/python3.6/dist-packages (from oauth2client>=2.0.1->gcloud) (4.6)\n",
      "Requirement already satisfied: pyasn1-modules>=0.0.5 in /usr/local/lib/python3.6/dist-packages (from oauth2client>=2.0.1->gcloud) (0.2.8)\n",
      "Requirement already satisfied: pyasn1>=0.1.7 in /usr/local/lib/python3.6/dist-packages (from oauth2client>=2.0.1->gcloud) (0.4.8)\n",
      "Requirement already satisfied: setuptools in /usr/local/lib/python3.6/dist-packages (from protobuf!=3.0.0.b2.post1,>=3.0.0b2->gcloud) (41.1.0)\n",
      "\u001b[33mWARNING: You are using pip version 19.2.2, however version 20.3.3 is available.\n",
      "You should consider upgrading via the 'pip install --upgrade pip' command.\u001b[0m\n",
      "Requirement already satisfied: sseclient in /usr/local/lib/python3.6/dist-packages (0.0.27)\n",
      "Requirement already satisfied: six in /usr/local/lib/python3.6/dist-packages (from sseclient) (1.12.0)\n",
      "Requirement already satisfied: requests>=2.9 in /usr/local/lib/python3.6/dist-packages (from sseclient) (2.22.0)\n",
      "Requirement already satisfied: chardet<3.1.0,>=3.0.2 in /usr/local/lib/python3.6/dist-packages (from requests>=2.9->sseclient) (3.0.4)\n",
      "Requirement already satisfied: certifi>=2017.4.17 in /usr/local/lib/python3.6/dist-packages (from requests>=2.9->sseclient) (2019.6.16)\n",
      "Requirement already satisfied: urllib3!=1.25.0,!=1.25.1,<1.26,>=1.21.1 in /usr/local/lib/python3.6/dist-packages (from requests>=2.9->sseclient) (1.25.3)\n",
      "Requirement already satisfied: idna<2.9,>=2.5 in /usr/local/lib/python3.6/dist-packages (from requests>=2.9->sseclient) (2.8)\n",
      "\u001b[33mWARNING: You are using pip version 19.2.2, however version 20.3.3 is available.\n",
      "You should consider upgrading via the 'pip install --upgrade pip' command.\u001b[0m\n",
      "Requirement already satisfied: pycrypto in /usr/local/lib/python3.6/dist-packages (2.6.1)\n",
      "\u001b[33mWARNING: You are using pip version 19.2.2, however version 20.3.3 is available.\n",
      "You should consider upgrading via the 'pip install --upgrade pip' command.\u001b[0m\n",
      "Requirement already satisfied: requests-toolbelt in /usr/local/lib/python3.6/dist-packages (0.9.1)\n",
      "Requirement already satisfied: requests<3.0.0,>=2.0.1 in /usr/local/lib/python3.6/dist-packages (from requests-toolbelt) (2.22.0)\n",
      "Requirement already satisfied: chardet<3.1.0,>=3.0.2 in /usr/local/lib/python3.6/dist-packages (from requests<3.0.0,>=2.0.1->requests-toolbelt) (3.0.4)\n",
      "Requirement already satisfied: idna<2.9,>=2.5 in /usr/local/lib/python3.6/dist-packages (from requests<3.0.0,>=2.0.1->requests-toolbelt) (2.8)\n",
      "Requirement already satisfied: urllib3!=1.25.0,!=1.25.1,<1.26,>=1.21.1 in /usr/local/lib/python3.6/dist-packages (from requests<3.0.0,>=2.0.1->requests-toolbelt) (1.25.3)\n",
      "Requirement already satisfied: certifi>=2017.4.17 in /usr/local/lib/python3.6/dist-packages (from requests<3.0.0,>=2.0.1->requests-toolbelt) (2019.6.16)\n",
      "\u001b[33mWARNING: You are using pip version 19.2.2, however version 20.3.3 is available.\n",
      "You should consider upgrading via the 'pip install --upgrade pip' command.\u001b[0m\n",
      "Collecting firebase\n",
      "  Downloading https://files.pythonhosted.org/packages/f8/33/6b2a24e349563f2d279ccc8321f26a9c0d6d2f8205adb68f3046c3ec7a89/firebase-3.0.1-py3-none-any.whl\n",
      "Requirement already satisfied: requests in /usr/local/lib/python3.6/dist-packages (from firebase) (2.22.0)\n",
      "Requirement already satisfied: idna<2.9,>=2.5 in /usr/local/lib/python3.6/dist-packages (from requests->firebase) (2.8)\n",
      "Requirement already satisfied: certifi>=2017.4.17 in /usr/local/lib/python3.6/dist-packages (from requests->firebase) (2019.6.16)\n",
      "Requirement already satisfied: chardet<3.1.0,>=3.0.2 in /usr/local/lib/python3.6/dist-packages (from requests->firebase) (3.0.4)\n",
      "Requirement already satisfied: urllib3!=1.25.0,!=1.25.1,<1.26,>=1.21.1 in /usr/local/lib/python3.6/dist-packages (from requests->firebase) (1.25.3)\n",
      "Installing collected packages: firebase\n",
      "Successfully installed firebase-3.0.1\n",
      "\u001b[33mWARNING: You are using pip version 19.2.2, however version 20.3.3 is available.\n",
      "You should consider upgrading via the 'pip install --upgrade pip' command.\u001b[0m\n"
     ]
    }
   ],
   "source": [
    "!pip install python-jwt\n",
    "!pip install gcloud\n",
    "!pip install sseclient\n",
    "!pip install pycrypto\n",
    "!pip install requests-toolbelt\n",
    "!pip install firebase"
   ]
  },
  {
   "cell_type": "code",
   "execution_count": 3,
   "metadata": {},
   "outputs": [],
   "source": [
    "import pandas as pd\n",
    "import numpy as np\n",
    "from firebase import firebase\n",
    "import matplotlib.pyplot as plt"
   ]
  },
  {
   "cell_type": "code",
   "execution_count": 4,
   "metadata": {},
   "outputs": [],
   "source": [
    "firebase = firebase.FirebaseApplication('https://cloudcomputing-finalproj-hkr.firebaseio.com/')\n",
    "result = firebase.get('/DHT11', None)\n",
    "df = pd.DataFrame.from_dict(result)\n",
    "df = df.T"
   ]
  },
  {
   "cell_type": "code",
   "execution_count": 5,
   "metadata": {},
   "outputs": [
    {
     "name": "stdout",
     "output_type": "stream",
     "text": [
      "                     Humidity Temperature    UnixTime\n",
      "-MAFtAvylX7ydkq3PoZq    72.00       34.60  1592667750\n",
      "-MAFtDwLFSA48AbMwdLg    66.00       34.60  1592667761\n",
      "-MAFtGSRWVX3-NN6ZFaH    66.00       34.60  1592667774\n",
      "-MAFtIz8iQnSMIpMq4Mo    66.00       34.60  1592667784\n",
      "-MAFtLUqBvYvqkZr-470    66.00       34.60  1592667794\n",
      "...                       ...         ...         ...\n",
      "-MBgw3TFQaZFQUuCi_r7    57.00       28.50  1594212012\n",
      "-MBgw60gTQAqXVTyQDoj    58.00       28.50  1594212022\n",
      "-MBgw8ZgaCwBjQvp-2Xw    58.00       28.50  1594212033\n",
      "-MBgwB77fZnAQvnAQPOm    58.00       28.50  1594212043\n",
      "-MBgwDfD9ChEbps13sgV    58.00       28.50  1594212054\n",
      "\n",
      "[16819 rows x 3 columns]\n"
     ]
    }
   ],
   "source": [
    "print(df)"
   ]
  },
  {
   "cell_type": "code",
   "execution_count": 6,
   "metadata": {},
   "outputs": [],
   "source": [
    "df['Humidity'], df['Temperature'] = df['Humidity'].str.strip().str.replace('\"','').astype(float), df['Temperature'].str.strip().str.replace('\"','').astype(float)\n",
    "df['UnixTime'] = df['UnixTime'].str.strip().str.replace('\"','').astype(np.int64)\n",
    "\n",
    "df.dropna(how = 'all', inplace = True)\n",
    "df['Humidity'].fillna(df['Humidity'].mean(), inplace = True)\n",
    "df['Temperature'].fillna(df['Temperature'].mean(), inplace = True)\n",
    "\n",
    "df.reset_index(drop = True, inplace = True)\n",
    "\n",
    "df_pure = df"
   ]
  },
  {
   "cell_type": "code",
   "execution_count": 7,
   "metadata": {},
   "outputs": [
    {
     "name": "stdout",
     "output_type": "stream",
     "text": [
      "       Humidity  Temperature    UnixTime\n",
      "0          72.0         34.6  1592667750\n",
      "1          66.0         34.6  1592667761\n",
      "2          66.0         34.6  1592667774\n",
      "3          66.0         34.6  1592667784\n",
      "4          66.0         34.6  1592667794\n",
      "...         ...          ...         ...\n",
      "16814      57.0         28.5  1594212012\n",
      "16815      58.0         28.5  1594212022\n",
      "16816      58.0         28.5  1594212033\n",
      "16817      58.0         28.5  1594212043\n",
      "16818      58.0         28.5  1594212054\n",
      "\n",
      "[16819 rows x 3 columns]\n"
     ]
    }
   ],
   "source": [
    "print(df_pure)"
   ]
  },
  {
   "cell_type": "code",
   "execution_count": 8,
   "metadata": {},
   "outputs": [],
   "source": [
    "for i, j in df_pure.iterrows():\n",
    "    if j['Temperature'] > 35.0:\n",
    "        df_pure = df_pure.drop(i)\n",
    "    \n",
    "df_pure.reset_index(drop = True, inplace = True)"
   ]
  },
  {
   "cell_type": "code",
   "execution_count": 9,
   "metadata": {},
   "outputs": [
    {
     "data": {
      "image/png": "[encoded data removed]",
      "text/plain": [
       "<Figure size 432x288 with 1 Axes>"
      ]
     },
     "metadata": {
      "needs_background": "light"
     },
     "output_type": "display_data"
    }
   ],
   "source": [
    "plt.scatter(df_pure['Humidity'], df_pure['Temperature'], color='red')\n",
    "plt.title('Humidity Vs Temperature', fontsize=14)\n",
    "plt.xlabel('Humidity', fontsize=14)\n",
    "plt.ylabel('Temperature', fontsize=14)\n",
    "plt.grid(True)\n",
    "plt.show()"
   ]
  },
  {
   "cell_type": "code",
   "execution_count": 10,
   "metadata": {},
   "outputs": [],
   "source": [
    "def TakeFuture(dataset, furtureseconds):\n",
    "    L = []\n",
    "    \n",
    "    for i, j in dataset.iterrows():\n",
    "        dataRow = TakeClosest(dataset, int(j['UnixTime']) + furtureseconds)\n",
    "        if dataRow is None:\n",
    "            break\n",
    "        else:\n",
    "            L.append(j)\n",
    "            L.append(dataRow)\n",
    "            \n",
    "    result_future = pd.concat(L, ignore_index = True)\n",
    "    return result_future\n",
    "\n",
    "  \n",
    "\n",
    "def TakeClosest(dataset, current):\n",
    "    flag = False\n",
    "    \n",
    "    for i, j in dataset.iterrows():\n",
    "        if current - int(j['UnixTime']) >= 0:\n",
    "            index = j\n",
    "        else:\n",
    "            flag = True\n",
    "            break\n",
    "        \n",
    "    if flag == True:\n",
    "        return index\n",
    "    else:\n",
    "        return None"
   ]
  },
  {
   "cell_type": "code",
   "execution_count": null,
   "metadata": {},
   "outputs": [],
   "source": [
    "df_fe = TakeFuture(df_pure, 60 * 60)\n",
    "compression_opts = dict(method='zip',\n",
    "                        archive_name='out.csv')  \n",
    "df_fe.to_csv('out.zip', index=False,\n",
    "          compression=compression_opts)  "
   ]
  }
 ],
 "metadata": {
  "kernelspec": {
   "display_name": "Python 3",
   "language": "python",
   "name": "python3"
  },
  "language_info": {
   "codemirror_mode": {
    "name": "ipython",
    "version": 3
   },
   "file_extension": ".py",
   "mimetype": "text/x-python",
   "name": "python",
   "nbconvert_exporter": "python",
   "pygments_lexer": "ipython3",
   "version": "3.6.8"
  }
 },
 "nbformat": 4,
 "nbformat_minor": 4
}
