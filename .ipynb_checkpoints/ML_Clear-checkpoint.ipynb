{
 "cells": [
  {
   "cell_type": "code",
   "execution_count": null,
   "metadata": {},
   "outputs": [],
   "source": [
    "!pip install python-jwt\n",
    "!pip install gcloud\n",
    "!pip install sseclient\n",
    "!pip install pycrypto\n",
    "!pip install requests-toolbelt\n",
    "!pip install firebase\n",
    "!pip install firebase"
   ]
  },
  {
   "cell_type": "code",
   "execution_count": 2,
   "metadata": {},
   "outputs": [],
   "source": [
    "import pandas as pd\n",
    "import numpy as np\n",
    "from firebase import firebase\n",
    "import time\n",
    "import matplotlib.pyplot as plt"
   ]
  },
  {
   "cell_type": "code",
   "execution_count": null,
   "metadata": {},
   "outputs": [],
   "source": [
    "def scatter_data():\n",
    "    plt.scatter(df_pure['Humidity'], df_pure['Temperature'], color='red')\n",
    "    plt.title('Humidity Vs Temperature', fontsize=14)\n",
    "    plt.xlabel('Humidity', fontsize=14)\n",
    "    plt.ylabel('Temperature', fontsize=14)\n",
    "    plt.grid(True)\n",
    "    plt.show()"
   ]
  },
  {
   "cell_type": "code",
   "execution_count": 3,
   "metadata": {},
   "outputs": [],
   "source": [
    "firebase = firebase.FirebaseApplication('https://cloudcomputing-finalproj-hkr.firebaseio.com/')\n",
    "result = firebase.get('/DHT11', None)\n",
    "df = pd.DataFrame.from_dict(result)\n",
    "df = df.T"
   ]
  },
  {
   "cell_type": "code",
   "execution_count": null,
   "metadata": {},
   "outputs": [],
   "source": [
    "df['Humidity'], df['Temperature'] = df['Humidity'].str.strip().str.replace('\"','').astype(float), df['Temperature'].str.strip().str.replace('\"','').astype(float)\n",
    "df['UnixTime'] = df['UnixTime'].str.strip().str.replace('\"','').astype(np.int64)\n",
    "\n",
    "df.dropna(how = 'all', inplace = True)\n",
    "df['Humidity'].fillna(df['Humidity'].mean(), inplace = True)\n",
    "df['Temperature'].fillna(df['Temperature'].mean(), inplace = True)\n",
    "\n",
    "df.reset_index(drop = True, inplace = True)\n",
    "\n",
    "df_pure = df"
   ]
  },
  {
   "cell_type": "code",
   "execution_count": null,
   "metadata": {},
   "outputs": [],
   "source": [
    "for i, j in df_pure.iterrows():\n",
    "    if j['Temperature'] > 35.0:\n",
    "        df_pure = df_pure.drop(i)\n",
    "    \n",
    "df_pure.reset_index(drop = True, inplace = True)"
   ]
  },
  {
   "cell_type": "code",
   "execution_count": null,
   "metadata": {},
   "outputs": [],
   "source": []
  }
 ],
 "metadata": {
  "kernelspec": {
   "display_name": "Python 3",
   "language": "python",
   "name": "python3"
  },
  "language_info": {
   "codemirror_mode": {
    "name": "ipython",
    "version": 3
   },
   "file_extension": ".py",
   "mimetype": "text/x-python",
   "name": "python",
   "nbconvert_exporter": "python",
   "pygments_lexer": "ipython3",
   "version": "3.6.9"
  }
 },
 "nbformat": 4,
 "nbformat_minor": 4
}
