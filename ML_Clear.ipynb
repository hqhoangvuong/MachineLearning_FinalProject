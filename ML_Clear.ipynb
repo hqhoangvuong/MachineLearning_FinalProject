{
 "cells": [
  {
   "cell_type": "code",
   "execution_count": 6,
   "metadata": {},
   "outputs": [
    {
     "name": "stdout",
     "output_type": "stream",
     "text": [
      "Requirement already satisfied: python-jwt in /usr/local/lib/python3.6/dist-packages (3.3.0)\n",
      "Requirement already satisfied: jwcrypto>=0.8 in /usr/local/lib/python3.6/dist-packages (from python-jwt) (0.8)\n",
      "Requirement already satisfied: cryptography>=2.3 in /usr/local/lib/python3.6/dist-packages (from jwcrypto>=0.8->python-jwt) (3.3.1)\n",
      "Requirement already satisfied: cffi>=1.12 in /usr/local/lib/python3.6/dist-packages (from cryptography>=2.3->jwcrypto>=0.8->python-jwt) (1.14.4)\n",
      "Requirement already satisfied: six>=1.4.1 in /usr/lib/python3/dist-packages (from cryptography>=2.3->jwcrypto>=0.8->python-jwt) (1.11.0)\n",
      "Requirement already satisfied: pycparser in /usr/local/lib/python3.6/dist-packages (from cffi>=1.12->cryptography>=2.3->jwcrypto>=0.8->python-jwt) (2.20)\n",
      "\u001b[33mWARNING: You are using pip version 19.2.3, however version 20.3.3 is available.\n",
      "You should consider upgrading via the 'pip install --upgrade pip' command.\u001b[0m\n",
      "Requirement already satisfied: gcloud in /usr/local/lib/python3.6/dist-packages (0.18.3)\n",
      "Requirement already satisfied: oauth2client>=2.0.1 in /usr/local/lib/python3.6/dist-packages (from gcloud) (4.1.3)\n",
      "Requirement already satisfied: protobuf!=3.0.0.b2.post1,>=3.0.0b2 in /usr/local/lib/python3.6/dist-packages (from gcloud) (3.9.2)\n",
      "Requirement already satisfied: six in /usr/lib/python3/dist-packages (from gcloud) (1.11.0)\n",
      "Requirement already satisfied: googleapis-common-protos in /usr/local/lib/python3.6/dist-packages (from gcloud) (1.52.0)\n",
      "Requirement already satisfied: httplib2>=0.9.1 in /usr/local/lib/python3.6/dist-packages (from gcloud) (0.18.1)\n",
      "Requirement already satisfied: pyasn1-modules>=0.0.5 in /usr/local/lib/python3.6/dist-packages (from oauth2client>=2.0.1->gcloud) (0.2.8)\n",
      "Requirement already satisfied: pyasn1>=0.1.7 in /usr/local/lib/python3.6/dist-packages (from oauth2client>=2.0.1->gcloud) (0.4.8)\n",
      "Requirement already satisfied: rsa>=3.1.4 in /usr/local/lib/python3.6/dist-packages (from oauth2client>=2.0.1->gcloud) (4.6)\n",
      "Requirement already satisfied: setuptools in /usr/local/lib/python3.6/dist-packages (from protobuf!=3.0.0.b2.post1,>=3.0.0b2->gcloud) (41.2.0)\n",
      "\u001b[33mWARNING: You are using pip version 19.2.3, however version 20.3.3 is available.\n",
      "You should consider upgrading via the 'pip install --upgrade pip' command.\u001b[0m\n",
      "Requirement already satisfied: sseclient in /usr/local/lib/python3.6/dist-packages (0.0.27)\n",
      "Requirement already satisfied: six in /usr/lib/python3/dist-packages (from sseclient) (1.11.0)\n",
      "Requirement already satisfied: requests>=2.9 in /usr/local/lib/python3.6/dist-packages (from sseclient) (2.25.1)\n",
      "Requirement already satisfied: idna<3,>=2.5 in /usr/lib/python3/dist-packages (from requests>=2.9->sseclient) (2.6)\n",
      "Requirement already satisfied: urllib3<1.27,>=1.21.1 in /usr/local/lib/python3.6/dist-packages (from requests>=2.9->sseclient) (1.26.2)\n",
      "Requirement already satisfied: certifi>=2017.4.17 in /usr/local/lib/python3.6/dist-packages (from requests>=2.9->sseclient) (2020.12.5)\n",
      "Requirement already satisfied: chardet<5,>=3.0.2 in /usr/local/lib/python3.6/dist-packages (from requests>=2.9->sseclient) (4.0.0)\n",
      "\u001b[33mWARNING: You are using pip version 19.2.3, however version 20.3.3 is available.\n",
      "You should consider upgrading via the 'pip install --upgrade pip' command.\u001b[0m\n",
      "Requirement already satisfied: pycrypto in /usr/lib/python3/dist-packages (2.6.1)\n",
      "\u001b[33mWARNING: You are using pip version 19.2.3, however version 20.3.3 is available.\n",
      "You should consider upgrading via the 'pip install --upgrade pip' command.\u001b[0m\n",
      "Requirement already satisfied: requests-toolbelt in /usr/local/lib/python3.6/dist-packages (0.9.1)\n",
      "Requirement already satisfied: requests<3.0.0,>=2.0.1 in /usr/local/lib/python3.6/dist-packages (from requests-toolbelt) (2.25.1)\n",
      "Requirement already satisfied: certifi>=2017.4.17 in /usr/local/lib/python3.6/dist-packages (from requests<3.0.0,>=2.0.1->requests-toolbelt) (2020.12.5)\n",
      "Requirement already satisfied: urllib3<1.27,>=1.21.1 in /usr/local/lib/python3.6/dist-packages (from requests<3.0.0,>=2.0.1->requests-toolbelt) (1.26.2)\n",
      "Requirement already satisfied: chardet<5,>=3.0.2 in /usr/local/lib/python3.6/dist-packages (from requests<3.0.0,>=2.0.1->requests-toolbelt) (4.0.0)\n",
      "Requirement already satisfied: idna<3,>=2.5 in /usr/lib/python3/dist-packages (from requests<3.0.0,>=2.0.1->requests-toolbelt) (2.6)\n",
      "\u001b[33mWARNING: You are using pip version 19.2.3, however version 20.3.3 is available.\n",
      "You should consider upgrading via the 'pip install --upgrade pip' command.\u001b[0m\n",
      "Requirement already satisfied: firebase in /usr/local/lib/python3.6/dist-packages (3.0.1)\n",
      "Requirement already satisfied: requests in /usr/local/lib/python3.6/dist-packages (from firebase) (2.25.1)\n",
      "Requirement already satisfied: urllib3<1.27,>=1.21.1 in /usr/local/lib/python3.6/dist-packages (from requests->firebase) (1.26.2)\n",
      "Requirement already satisfied: certifi>=2017.4.17 in /usr/local/lib/python3.6/dist-packages (from requests->firebase) (2020.12.5)\n",
      "Requirement already satisfied: idna<3,>=2.5 in /usr/lib/python3/dist-packages (from requests->firebase) (2.6)\n",
      "Requirement already satisfied: chardet<5,>=3.0.2 in /usr/local/lib/python3.6/dist-packages (from requests->firebase) (4.0.0)\n",
      "\u001b[33mWARNING: You are using pip version 19.2.3, however version 20.3.3 is available.\n",
      "You should consider upgrading via the 'pip install --upgrade pip' command.\u001b[0m\n",
      "Collecting seaborn\n",
      "\u001b[?25l  Downloading https://files.pythonhosted.org/packages/68/ad/6c2406ae175f59ec616714e408979b674fe27b9587f79d59a528ddfbcd5b/seaborn-0.11.1-py3-none-any.whl (285kB)\n",
      "\u001b[K     |████████████████████████████████| 286kB 28.4MB/s eta 0:00:01\n",
      "\u001b[?25hRequirement already satisfied: matplotlib>=2.2 in /usr/local/lib/python3.6/dist-packages (from seaborn) (3.1.1)\n",
      "Requirement already satisfied: numpy>=1.15 in /usr/local/lib/python3.6/dist-packages (from seaborn) (1.17.2)\n",
      "Requirement already satisfied: scipy>=1.0 in /usr/local/lib/python3.6/dist-packages (from seaborn) (1.5.4)\n",
      "Requirement already satisfied: pandas>=0.23 in /usr/local/lib/python3.6/dist-packages (from seaborn) (1.1.5)\n",
      "Requirement already satisfied: kiwisolver>=1.0.1 in /usr/local/lib/python3.6/dist-packages (from matplotlib>=2.2->seaborn) (1.1.0)\n",
      "Requirement already satisfied: pyparsing!=2.0.4,!=2.1.2,!=2.1.6,>=2.0.1 in /usr/local/lib/python3.6/dist-packages (from matplotlib>=2.2->seaborn) (2.4.2)\n",
      "Requirement already satisfied: python-dateutil>=2.1 in /usr/local/lib/python3.6/dist-packages (from matplotlib>=2.2->seaborn) (2.8.0)\n",
      "Requirement already satisfied: cycler>=0.10 in /usr/local/lib/python3.6/dist-packages (from matplotlib>=2.2->seaborn) (0.10.0)\n",
      "Requirement already satisfied: pytz>=2017.2 in /usr/local/lib/python3.6/dist-packages (from pandas>=0.23->seaborn) (2020.4)\n",
      "Requirement already satisfied: setuptools in /usr/local/lib/python3.6/dist-packages (from kiwisolver>=1.0.1->matplotlib>=2.2->seaborn) (41.2.0)\n",
      "Requirement already satisfied: six>=1.5 in /usr/lib/python3/dist-packages (from python-dateutil>=2.1->matplotlib>=2.2->seaborn) (1.11.0)\n",
      "Installing collected packages: seaborn\n",
      "Successfully installed seaborn-0.11.1\n",
      "\u001b[33mWARNING: You are using pip version 19.2.3, however version 20.3.3 is available.\n",
      "You should consider upgrading via the 'pip install --upgrade pip' command.\u001b[0m\n"
     ]
    }
   ],
   "source": [
    "!pip install python-jwt\n",
    "!pip install gcloud\n",
    "!pip install sseclient\n",
    "!pip install pycrypto\n",
    "!pip install requests-toolbelt\n",
    "!pip install firebase\n",
    "!pip install seaborn"
   ]
  },
  {
   "cell_type": "code",
   "execution_count": 7,
   "metadata": {},
   "outputs": [],
   "source": [
    "import pandas as pd\n",
    "import numpy as np\n",
    "from firebase import firebase\n",
    "import time\n",
    "import seaborn as sns\n",
    "import matplotlib.pyplot as plt"
   ]
  },
  {
   "cell_type": "code",
   "execution_count": 24,
   "metadata": {},
   "outputs": [],
   "source": [
    "def scatter_data(df):\n",
    "    plt.figure(figsize=(20, 10))\n",
    "    plt.scatter(df['Humidity'], df['Temperature'], color='red')\n",
    "    plt.title('Humidity Vs Temperature', fontsize=14)\n",
    "    plt.xlabel('Humidity', fontsize=14)\n",
    "    plt.ylabel('Temperature', fontsize=14)\n",
    "    plt.grid(True)\n",
    "    plt.savefig('figs/TempVsHum.png')\n",
    "    plt.show()"
   ]
  },
  {
   "cell_type": "code",
   "execution_count": 9,
   "metadata": {},
   "outputs": [],
   "source": [
    "firebase = firebase.FirebaseApplication('https://cloudcomputing-finalproj-hkr.firebaseio.com/')\n",
    "result = firebase.get('/DHT11', None)\n",
    "df = pd.DataFrame.from_dict(result)\n",
    "df = df.T"
   ]
  },
  {
   "cell_type": "code",
   "execution_count": 27,
   "metadata": {},
   "outputs": [
    {
     "data": {
      "text/html": [
       "<div>\n",
       "<style scoped>\n",
       "    .dataframe tbody tr th:only-of-type {\n",
       "        vertical-align: middle;\n",
       "    }\n",
       "\n",
       "    .dataframe tbody tr th {\n",
       "        vertical-align: top;\n",
       "    }\n",
       "\n",
       "    .dataframe thead th {\n",
       "        text-align: right;\n",
       "    }\n",
       "</style>\n",
       "<table border=\"1\" class=\"dataframe\">\n",
       "  <thead>\n",
       "    <tr style=\"text-align: right;\">\n",
       "      <th></th>\n",
       "      <th>Humidity</th>\n",
       "      <th>Temperature</th>\n",
       "      <th>UnixTime</th>\n",
       "    </tr>\n",
       "  </thead>\n",
       "  <tbody>\n",
       "    <tr>\n",
       "      <th>0</th>\n",
       "      <td>72.0</td>\n",
       "      <td>34.6</td>\n",
       "      <td>1592667750</td>\n",
       "    </tr>\n",
       "    <tr>\n",
       "      <th>1</th>\n",
       "      <td>66.0</td>\n",
       "      <td>34.6</td>\n",
       "      <td>1592667761</td>\n",
       "    </tr>\n",
       "    <tr>\n",
       "      <th>2</th>\n",
       "      <td>66.0</td>\n",
       "      <td>34.6</td>\n",
       "      <td>1592667774</td>\n",
       "    </tr>\n",
       "    <tr>\n",
       "      <th>3</th>\n",
       "      <td>66.0</td>\n",
       "      <td>34.6</td>\n",
       "      <td>1592667784</td>\n",
       "    </tr>\n",
       "    <tr>\n",
       "      <th>4</th>\n",
       "      <td>66.0</td>\n",
       "      <td>34.6</td>\n",
       "      <td>1592667794</td>\n",
       "    </tr>\n",
       "    <tr>\n",
       "      <th>...</th>\n",
       "      <td>...</td>\n",
       "      <td>...</td>\n",
       "      <td>...</td>\n",
       "    </tr>\n",
       "    <tr>\n",
       "      <th>16814</th>\n",
       "      <td>57.0</td>\n",
       "      <td>28.5</td>\n",
       "      <td>1594212012</td>\n",
       "    </tr>\n",
       "    <tr>\n",
       "      <th>16815</th>\n",
       "      <td>58.0</td>\n",
       "      <td>28.5</td>\n",
       "      <td>1594212022</td>\n",
       "    </tr>\n",
       "    <tr>\n",
       "      <th>16816</th>\n",
       "      <td>58.0</td>\n",
       "      <td>28.5</td>\n",
       "      <td>1594212033</td>\n",
       "    </tr>\n",
       "    <tr>\n",
       "      <th>16817</th>\n",
       "      <td>58.0</td>\n",
       "      <td>28.5</td>\n",
       "      <td>1594212043</td>\n",
       "    </tr>\n",
       "    <tr>\n",
       "      <th>16818</th>\n",
       "      <td>58.0</td>\n",
       "      <td>28.5</td>\n",
       "      <td>1594212054</td>\n",
       "    </tr>\n",
       "  </tbody>\n",
       "</table>\n",
       "<p>16819 rows × 3 columns</p>\n",
       "</div>"
      ],
      "text/plain": [
       "       Humidity  Temperature    UnixTime\n",
       "0          72.0         34.6  1592667750\n",
       "1          66.0         34.6  1592667761\n",
       "2          66.0         34.6  1592667774\n",
       "3          66.0         34.6  1592667784\n",
       "4          66.0         34.6  1592667794\n",
       "...         ...          ...         ...\n",
       "16814      57.0         28.5  1594212012\n",
       "16815      58.0         28.5  1594212022\n",
       "16816      58.0         28.5  1594212033\n",
       "16817      58.0         28.5  1594212043\n",
       "16818      58.0         28.5  1594212054\n",
       "\n",
       "[16819 rows x 3 columns]"
      ]
     },
     "execution_count": 27,
     "metadata": {},
     "output_type": "execute_result"
    }
   ],
   "source": [
    "df"
   ]
  },
  {
   "cell_type": "code",
   "execution_count": 10,
   "metadata": {},
   "outputs": [],
   "source": [
    "df['Humidity'], df['Temperature'] = df['Humidity'].str.strip().str.replace('\"','').astype(float), df['Temperature'].str.strip().str.replace('\"','').astype(float)\n",
    "df['UnixTime'] = df['UnixTime'].str.strip().str.replace('\"','').astype(np.int64)\n",
    "\n",
    "df.dropna(how = 'all', inplace = True)\n",
    "df['Humidity'].fillna(df['Humidity'].mean(), inplace = True)\n",
    "df['Temperature'].fillna(df['Temperature'].mean(), inplace = True)\n",
    "\n",
    "df.reset_index(drop = True, inplace = True)\n",
    "\n",
    "df_pure = df"
   ]
  },
  {
   "cell_type": "code",
   "execution_count": 11,
   "metadata": {},
   "outputs": [],
   "source": [
    "for i, j in df_pure.iterrows():\n",
    "    if j['Temperature'] > 35.0:\n",
    "        df_pure = df_pure.drop(i)\n",
    "    \n",
    "df_pure.reset_index(drop = True, inplace = True)"
   ]
  },
  {
   "cell_type": "code",
   "execution_count": 25,
   "metadata": {},
   "outputs": [
    {
     "data": {
      "image/png": "[encoded data removed]",
      "text/plain": [
       "<Figure size 1440x720 with 1 Axes>"
      ]
     },
     "metadata": {
      "needs_background": "light"
     },
     "output_type": "display_data"
    }
   ],
   "source": [
    "scatter_data(df_pure)"
   ]
  },
  {
   "cell_type": "code",
   "execution_count": 26,
   "metadata": {},
   "outputs": [
    {
     "data": {
      "text/html": [
       "<div>\n",
       "<style scoped>\n",
       "    .dataframe tbody tr th:only-of-type {\n",
       "        vertical-align: middle;\n",
       "    }\n",
       "\n",
       "    .dataframe tbody tr th {\n",
       "        vertical-align: top;\n",
       "    }\n",
       "\n",
       "    .dataframe thead th {\n",
       "        text-align: right;\n",
       "    }\n",
       "</style>\n",
       "<table border=\"1\" class=\"dataframe\">\n",
       "  <thead>\n",
       "    <tr style=\"text-align: right;\">\n",
       "      <th></th>\n",
       "      <th>Humidity</th>\n",
       "      <th>Temperature</th>\n",
       "      <th>UnixTime</th>\n",
       "    </tr>\n",
       "  </thead>\n",
       "  <tbody>\n",
       "    <tr>\n",
       "      <th>0</th>\n",
       "      <td>72.0</td>\n",
       "      <td>34.6</td>\n",
       "      <td>1592667750</td>\n",
       "    </tr>\n",
       "    <tr>\n",
       "      <th>1</th>\n",
       "      <td>66.0</td>\n",
       "      <td>34.6</td>\n",
       "      <td>1592667761</td>\n",
       "    </tr>\n",
       "    <tr>\n",
       "      <th>2</th>\n",
       "      <td>66.0</td>\n",
       "      <td>34.6</td>\n",
       "      <td>1592667774</td>\n",
       "    </tr>\n",
       "    <tr>\n",
       "      <th>3</th>\n",
       "      <td>66.0</td>\n",
       "      <td>34.6</td>\n",
       "      <td>1592667784</td>\n",
       "    </tr>\n",
       "    <tr>\n",
       "      <th>4</th>\n",
       "      <td>66.0</td>\n",
       "      <td>34.6</td>\n",
       "      <td>1592667794</td>\n",
       "    </tr>\n",
       "    <tr>\n",
       "      <th>...</th>\n",
       "      <td>...</td>\n",
       "      <td>...</td>\n",
       "      <td>...</td>\n",
       "    </tr>\n",
       "    <tr>\n",
       "      <th>14325</th>\n",
       "      <td>57.0</td>\n",
       "      <td>28.5</td>\n",
       "      <td>1594212012</td>\n",
       "    </tr>\n",
       "    <tr>\n",
       "      <th>14326</th>\n",
       "      <td>58.0</td>\n",
       "      <td>28.5</td>\n",
       "      <td>1594212022</td>\n",
       "    </tr>\n",
       "    <tr>\n",
       "      <th>14327</th>\n",
       "      <td>58.0</td>\n",
       "      <td>28.5</td>\n",
       "      <td>1594212033</td>\n",
       "    </tr>\n",
       "    <tr>\n",
       "      <th>14328</th>\n",
       "      <td>58.0</td>\n",
       "      <td>28.5</td>\n",
       "      <td>1594212043</td>\n",
       "    </tr>\n",
       "    <tr>\n",
       "      <th>14329</th>\n",
       "      <td>58.0</td>\n",
       "      <td>28.5</td>\n",
       "      <td>1594212054</td>\n",
       "    </tr>\n",
       "  </tbody>\n",
       "</table>\n",
       "<p>14330 rows × 3 columns</p>\n",
       "</div>"
      ],
      "text/plain": [
       "       Humidity  Temperature    UnixTime\n",
       "0          72.0         34.6  1592667750\n",
       "1          66.0         34.6  1592667761\n",
       "2          66.0         34.6  1592667774\n",
       "3          66.0         34.6  1592667784\n",
       "4          66.0         34.6  1592667794\n",
       "...         ...          ...         ...\n",
       "14325      57.0         28.5  1594212012\n",
       "14326      58.0         28.5  1594212022\n",
       "14327      58.0         28.5  1594212033\n",
       "14328      58.0         28.5  1594212043\n",
       "14329      58.0         28.5  1594212054\n",
       "\n",
       "[14330 rows x 3 columns]"
      ]
     },
     "execution_count": 26,
     "metadata": {},
     "output_type": "execute_result"
    }
   ],
   "source": [
    "df_pure"
   ]
  },
  {
   "cell_type": "code",
   "execution_count": 12,
   "metadata": {},
   "outputs": [],
   "source": [
    "hour_list = []\n",
    "minute_list = []\n",
    "\n",
    "for i, j in df_pure.iterrows():\n",
    "    hour = int(time.strftime(\"%H\", time.gmtime(int(j['UnixTime']))))\n",
    "    minute = int(time.strftime(\"%M\", time.gmtime(int(j['UnixTime']))))\n",
    "    hour_list.append(hour)\n",
    "    minute_list.append(minute)"
   ]
  },
  {
   "cell_type": "code",
   "execution_count": 17,
   "metadata": {},
   "outputs": [],
   "source": [
    "df_pure.insert(3, 'Hour', hour_list)"
   ]
  },
  {
   "cell_type": "code",
   "execution_count": 18,
   "metadata": {},
   "outputs": [],
   "source": [
    "df_pure.insert(4, 'Minute', minute_list)"
   ]
  },
  {
   "cell_type": "code",
   "execution_count": 36,
   "metadata": {},
   "outputs": [
    {
     "name": "stdout",
     "output_type": "stream",
     "text": [
      "       Humidity  Temperature    UnixTime  Hour  Minute\n",
      "0          72.0         34.6  1592667750    15      42\n",
      "1          66.0         34.6  1592667761    15      42\n",
      "2          66.0         34.6  1592667774    15      42\n",
      "3          66.0         34.6  1592667784    15      43\n",
      "4          66.0         34.6  1592667794    15      43\n",
      "...         ...          ...         ...   ...     ...\n",
      "14325      57.0         28.5  1594212012    12      40\n",
      "14326      58.0         28.5  1594212022    12      40\n",
      "14327      58.0         28.5  1594212033    12      40\n",
      "14328      58.0         28.5  1594212043    12      40\n",
      "14329      58.0         28.5  1594212054    12      40\n",
      "\n",
      "[14330 rows x 5 columns]\n"
     ]
    }
   ],
   "source": [
    "print(df_pure)\n",
    "df_pure.to_csv(r'saved_dataframe/df_pure_19_12_20.csv', index=False, header=True)"
   ]
  },
  {
   "cell_type": "code",
   "execution_count": 32,
   "metadata": {},
   "outputs": [],
   "source": [
    "def heatmap(data, figname = 'untitle'):\n",
    "    plt.figure(figsize=(35, 20))\n",
    "    sns.heatmap(data, cmap='coolwarm', annot=True)\n",
    "    filename = 'figs/{0}.png'\n",
    "    plt.title(\"Average Tempearture in HCMC from 0h to 23h\")\n",
    "    plt.savefig(filename.format(figname))\n",
    "    plt.show()"
   ]
  },
  {
   "cell_type": "code",
   "execution_count": null,
   "metadata": {},
   "outputs": [],
   "source": [
    "temp_hour = pd.crosstab(df_pure['Hour'], df_pure['Minute'], values=df_pure['Temperature'], aggfunc='mean')\n",
    "hum_hour = pd.crosstab(df_pure['Hour'], df_pure['Minute'], values=df_pure['Humidity'], aggfunc='mean')\n",
    "heatmap(temp_hour, 'avg_temp_hourly')\n",
    "heatmap(hum_hour, 'avg_hum_hourly')"
   ]
  },
  {
   "cell_type": "code",
   "execution_count": null,
   "metadata": {},
   "outputs": [],
   "source": []
  }
 ],
 "metadata": {
  "kernelspec": {
   "display_name": "Python 3",
   "language": "python",
   "name": "python3"
  },
  "language_info": {
   "codemirror_mode": {
    "name": "ipython",
    "version": 3
   },
   "file_extension": ".py",
   "mimetype": "text/x-python",
   "name": "python",
   "nbconvert_exporter": "python",
   "pygments_lexer": "ipython3",
   "version": "3.6.9"
  }
 },
 "nbformat": 4,
 "nbformat_minor": 4
}
