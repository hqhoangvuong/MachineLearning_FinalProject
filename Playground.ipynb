{
 "cells": [
  {
   "cell_type": "code",
   "execution_count": 1,
   "metadata": {},
   "outputs": [],
   "source": [
    "import pandas as pd\n",
    "import numpy as np\n",
    "from firebase import firebase\n",
    "import time\n",
    "import matplotlib.pyplot as plt"
   ]
  },
  {
   "cell_type": "code",
   "execution_count": 2,
   "metadata": {},
   "outputs": [],
   "source": [
    "df = pd.read_csv('saved_dataframe/df_pure_19_12_20.csv')"
   ]
  },
  {
   "cell_type": "code",
   "execution_count": 3,
   "metadata": {},
   "outputs": [
    {
     "data": {
      "text/html": [
       "<div>\n",
       "<style scoped>\n",
       "    .dataframe tbody tr th:only-of-type {\n",
       "        vertical-align: middle;\n",
       "    }\n",
       "\n",
       "    .dataframe tbody tr th {\n",
       "        vertical-align: top;\n",
       "    }\n",
       "\n",
       "    .dataframe thead th {\n",
       "        text-align: right;\n",
       "    }\n",
       "</style>\n",
       "<table border=\"1\" class=\"dataframe\">\n",
       "  <thead>\n",
       "    <tr style=\"text-align: right;\">\n",
       "      <th></th>\n",
       "      <th>Humidity</th>\n",
       "      <th>Temperature</th>\n",
       "      <th>UnixTime</th>\n",
       "      <th>Hour</th>\n",
       "      <th>Minute</th>\n",
       "    </tr>\n",
       "  </thead>\n",
       "  <tbody>\n",
       "    <tr>\n",
       "      <th>625</th>\n",
       "      <td>66.0</td>\n",
       "      <td>32.9</td>\n",
       "      <td>1592674430</td>\n",
       "      <td>17</td>\n",
       "      <td>33</td>\n",
       "    </tr>\n",
       "    <tr>\n",
       "      <th>624</th>\n",
       "      <td>65.0</td>\n",
       "      <td>32.9</td>\n",
       "      <td>1592674419</td>\n",
       "      <td>17</td>\n",
       "      <td>33</td>\n",
       "    </tr>\n",
       "    <tr>\n",
       "      <th>623</th>\n",
       "      <td>65.0</td>\n",
       "      <td>32.9</td>\n",
       "      <td>1592674408</td>\n",
       "      <td>17</td>\n",
       "      <td>33</td>\n",
       "    </tr>\n",
       "    <tr>\n",
       "      <th>622</th>\n",
       "      <td>65.0</td>\n",
       "      <td>32.9</td>\n",
       "      <td>1592674397</td>\n",
       "      <td>17</td>\n",
       "      <td>33</td>\n",
       "    </tr>\n",
       "    <tr>\n",
       "      <th>621</th>\n",
       "      <td>65.0</td>\n",
       "      <td>32.9</td>\n",
       "      <td>1592674387</td>\n",
       "      <td>17</td>\n",
       "      <td>33</td>\n",
       "    </tr>\n",
       "    <tr>\n",
       "      <th>620</th>\n",
       "      <td>66.0</td>\n",
       "      <td>32.9</td>\n",
       "      <td>1592674377</td>\n",
       "      <td>17</td>\n",
       "      <td>32</td>\n",
       "    </tr>\n",
       "    <tr>\n",
       "      <th>619</th>\n",
       "      <td>66.0</td>\n",
       "      <td>32.9</td>\n",
       "      <td>1592674366</td>\n",
       "      <td>17</td>\n",
       "      <td>32</td>\n",
       "    </tr>\n",
       "    <tr>\n",
       "      <th>618</th>\n",
       "      <td>66.0</td>\n",
       "      <td>32.9</td>\n",
       "      <td>1592674356</td>\n",
       "      <td>17</td>\n",
       "      <td>32</td>\n",
       "    </tr>\n",
       "    <tr>\n",
       "      <th>626</th>\n",
       "      <td>76.0</td>\n",
       "      <td>32.4</td>\n",
       "      <td>1592676363</td>\n",
       "      <td>18</td>\n",
       "      <td>6</td>\n",
       "    </tr>\n",
       "    <tr>\n",
       "      <th>617</th>\n",
       "      <td>66.0</td>\n",
       "      <td>32.9</td>\n",
       "      <td>1592674345</td>\n",
       "      <td>17</td>\n",
       "      <td>32</td>\n",
       "    </tr>\n",
       "  </tbody>\n",
       "</table>\n",
       "</div>"
      ],
      "text/plain": [
       "     Humidity  Temperature    UnixTime  Hour  Minute\n",
       "625      66.0         32.9  1592674430    17      33\n",
       "624      65.0         32.9  1592674419    17      33\n",
       "623      65.0         32.9  1592674408    17      33\n",
       "622      65.0         32.9  1592674397    17      33\n",
       "621      65.0         32.9  1592674387    17      33\n",
       "620      66.0         32.9  1592674377    17      32\n",
       "619      66.0         32.9  1592674366    17      32\n",
       "618      66.0         32.9  1592674356    17      32\n",
       "626      76.0         32.4  1592676363    18       6\n",
       "617      66.0         32.9  1592674345    17      32"
      ]
     },
     "execution_count": 3,
     "metadata": {},
     "output_type": "execute_result"
    }
   ],
   "source": [
    "    input = 1592671756 + 60 * 60\n",
    "df.iloc[(df['UnixTime'] - input).abs().argsort()[:10]]"
   ]
  },
  {
   "cell_type": "code",
   "execution_count": 4,
   "metadata": {},
   "outputs": [],
   "source": [
    "df_future = pd.DataFrame(columns = ['Humidity', 'Temperature', 'UnixTime', 'Hour', 'Minute', \n",
    "                                          'Humidity_Future', 'Temperature_Future', 'UnixTime_Future', 'Hour_Future', 'Minute_Future'])"
   ]
  },
  {
   "cell_type": "code",
   "execution_count": 5,
   "metadata": {},
   "outputs": [
    {
     "name": "stdout",
     "output_type": "stream",
     "text": [
      "0\n",
      "1000\n",
      "2000\n",
      "3000\n",
      "4000\n",
      "5000\n",
      "6000\n",
      "7000\n",
      "8000\n",
      "9000\n",
      "10000\n",
      "11000\n",
      "12000\n",
      "13000\n",
      "done\n"
     ]
    }
   ],
   "source": [
    "threshold = 60 * 60\n",
    "\n",
    "for i, j in df.iterrows():\n",
    "    input = j['UnixTime'] + threshold\n",
    "    feature = df.iloc[(df['UnixTime'] - input).abs().argsort()[:2]]\n",
    "    selected = feature.iloc[0]\n",
    "    \n",
    "    if selected['UnixTime'] == j['UnixTime']:\n",
    "        break\n",
    "    \n",
    "    if abs(selected['UnixTime'] - j['UnixTime'] - threshold) > abs(feature.iloc[1]['UnixTime'] - j['UnixTime'] - threshold):\n",
    "        selected = feature.iloc[1]\n",
    "        \n",
    "    df_future = df_future.append({'Humidity' : j['Humidity'], \n",
    "                    'Temperature' : j['Temperature'], \n",
    "                    'UnixTime' : j['UnixTime'], \n",
    "                    'Hour' : j['Hour'], \n",
    "                    'Minute' : j['Minute'], \n",
    "                    'Humidity_Future' : selected['Humidity'], \n",
    "                    'Temperature_Future' : selected['Temperature'], \n",
    "                    'UnixTime_Future' : selected['UnixTime'], \n",
    "                    'Hour_Future' : selected['Hour'], \n",
    "                    'Minute_Future' : selected['Minute']},  \n",
    "                   ignore_index = True)\n",
    "    if i % 1000 == 0:\n",
    "        print(i)\n",
    "        \n",
    "print('done')"
   ]
  },
  {
   "cell_type": "code",
   "execution_count": 35,
   "metadata": {},
   "outputs": [],
   "source": [
    "pd.set_option('display.float_format', lambda x: '%.10f' % x)\n",
    "# pd.reset_option('display.float_format')"
   ]
  },
  {
   "cell_type": "code",
   "execution_count": 6,
   "metadata": {},
   "outputs": [
    {
     "data": {
      "text/plain": [
       "Humidity              6.500000e+01\n",
       "Temperature           3.350000e+01\n",
       "UnixTime              1.592672e+09\n",
       "Hour                  1.600000e+01\n",
       "Minute                4.900000e+01\n",
       "Humidity_Future       6.600000e+01\n",
       "Temperature_Future    3.290000e+01\n",
       "UnixTime_Future       1.592674e+09\n",
       "Hour_Future           1.700000e+01\n",
       "Minute_Future         3.300000e+01\n",
       "Name: 377, dtype: float64"
      ]
     },
     "execution_count": 6,
     "metadata": {},
     "output_type": "execute_result"
    }
   ],
   "source": [
    "df_future.loc[377]"
   ]
  },
  {
   "cell_type": "code",
   "execution_count": 22,
   "metadata": {},
   "outputs": [
    {
     "name": "stdout",
     "output_type": "stream",
     "text": [
      "0\n",
      "1000\n",
      "2000\n",
      "3000\n",
      "4000\n",
      "5000\n",
      "6000\n",
      "7000\n",
      "8000\n",
      "9000\n",
      "10000\n",
      "11000\n",
      "13000\n"
     ]
    }
   ],
   "source": [
    "verify_time = []\n",
    "for i, j in df_future.iterrows():\n",
    "    time_dist = abs(j['UnixTime_Future'] - j['UnixTime'] - 60 * 60) \n",
    "    verify_time.append(time_dist)\n",
    "    if i % 1000 == 0:\n",
    "        print(i)"
   ]
  },
  {
   "cell_type": "code",
   "execution_count": 24,
   "metadata": {},
   "outputs": [
    {
     "data": {
      "image/png": "[encoded data removed]",
      "text/plain": [
       "<Figure size 432x288 with 1 Axes>"
      ]
     },
     "metadata": {
      "needs_background": "light"
     },
     "output_type": "display_data"
    }
   ],
   "source": [
    "np.max(verify_time)\n",
    "n, bins, patches = plt.hist(verify_time)\n",
    "plt.show()"
   ]
  },
  {
   "cell_type": "code",
   "execution_count": 12,
   "metadata": {},
   "outputs": [
    {
     "name": "stdout",
     "output_type": "stream",
     "text": [
      "[12271.   358.   277.   102.    68.    51.    66.    50.    35.    45.]\n",
      "[   0.  359.  718. 1077. 1436. 1795. 2154. 2513. 2872. 3231. 3590.]\n",
      "<a list of 10 Patch objects>\n"
     ]
    }
   ],
   "source": [
    "print(n)\n",
    "print(bins)\n",
    "print(patches)"
   ]
  },
  {
   "cell_type": "code",
   "execution_count": 21,
   "metadata": {},
   "outputs": [],
   "source": [
    "for i, j in df_future.iterrows():\n",
    "    if abs(j['UnixTime_Future'] - j['UnixTime'] - 60 * 60) >= 500:\n",
    "        df_future.drop(index = i, inplace = True)"
   ]
  },
  {
   "cell_type": "code",
   "execution_count": null,
   "metadata": {},
   "outputs": [],
   "source": []
  }
 ],
 "metadata": {
  "kernelspec": {
   "display_name": "Python 3",
   "language": "python",
   "name": "python3"
  },
  "language_info": {
   "codemirror_mode": {
    "name": "ipython",
    "version": 3
   },
   "file_extension": ".py",
   "mimetype": "text/x-python",
   "name": "python",
   "nbconvert_exporter": "python",
   "pygments_lexer": "ipython3",
   "version": "3.6.9"
  }
 },
 "nbformat": 4,
 "nbformat_minor": 4
}
